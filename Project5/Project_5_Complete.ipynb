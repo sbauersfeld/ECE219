{
 "cells": [
  {
   "cell_type": "code",
   "execution_count": 1,
   "metadata": {},
   "outputs": [],
   "source": [
    "import numpy as np\n",
    "import pytz\n",
    "import datetime\n",
    "import json\n",
    "import matplotlib.pyplot as plt\n",
    "import statsmodels.api as sm\n",
    "from sklearn.metrics import mean_squared_error, r2_score\n",
    "from sklearn.model_selection import train_test_split\n",
    "from sklearn.neural_network import MLPRegressor\n",
    "from sklearn.preprocessing import StandardScaler\n",
    "# import nltk\n",
    "# nltk.download('sentiwordnet')\n",
    "# from nltk.corpus import sentiwordnet as swn\n",
    "# from nltk.corpus import wordnet as wn\n",
    "# from nltk.tag import pos_tag\n",
    "# from nltk.corpus import stopwords\n",
    "# from nltk.stem import WordNetLemmatizer\n",
    "# lemmatizer = WordNetLemmatizer()\n",
    "\n",
    "PST_TZ = pytz.timezone('America/Los_Angeles')\n",
    "\n",
    "GOHAWKS = \"tweet_data/tweets_#gohawks.txt\"\n",
    "GOPATRIOTS = \"tweet_data/tweets_#gopatriots.txt\"\n",
    "NFL = \"tweet_data/tweets_#nfl.txt\"\n",
    "PATRIOTS = \"tweet_data/tweets_#patriots.txt\"\n",
    "SB49 = \"tweet_data/tweets_#sb49.txt\"\n",
    "SUPERBOWL = \"tweet_data/tweets_#superbowl.txt\"\n",
    "ALL_FILES = [GOHAWKS, GOPATRIOTS, NFL, PATRIOTS, SB49, SUPERBOWL]\n",
    "ALL_HASHTAGS = [\"#gohawks\", \"#gopatriots\", \"#nfl\", \"#patriots\", \"#sb49\", \"#superbowl\"]"
   ]
  },
  {
   "cell_type": "code",
   "execution_count": 3,
   "metadata": {},
   "outputs": [],
   "source": [
    "# def GetJSONData(filepath):\n",
    "#     with open(filepath, encoding=\"utf8\") as fp:\n",
    "#         data = [json.loads(line) for line in fp]\n",
    "#     return data\n",
    "\n",
    "def GetSampleJSON(filepath):\n",
    "    with open(filepath, encoding=\"utf8\") as fp:\n",
    "        for line in fp:\n",
    "            data = json.loads(line)\n",
    "            break\n",
    "    return data\n",
    "    \n",
    "def GetTweetStats(filepath):\n",
    "    followers = 0\n",
    "    retweets = 0\n",
    "    data_len = 0\n",
    "    count = 1\n",
    "    res = []\n",
    "    first_tweet = True\n",
    "    with open(filepath, encoding=\"utf8\") as fp:\n",
    "        for line in fp:\n",
    "            tweet = json.loads(line)\n",
    "            followers += tweet['author']['followers']\n",
    "            retweets += tweet['metrics']['citations']['total']\n",
    "            data_len += 1\n",
    "            if first_tweet:\n",
    "                first_time = tweet['firstpost_date']\n",
    "                first_datetime = datetime.datetime.fromtimestamp(first_time)\n",
    "                next_time = first_datetime + datetime.timedelta(hours=1)\n",
    "                first_tweet = False\n",
    "            else:\n",
    "                last_time = tweet['firstpost_date']\n",
    "                last_datetime = datetime.datetime.fromtimestamp(last_time)\n",
    "                if last_datetime > next_time:\n",
    "                    while last_datetime >= next_time:\n",
    "                        next_time = next_time + datetime.timedelta(hours=1)\n",
    "                        res.append(count)\n",
    "                        count = 0\n",
    "                    count = 1\n",
    "                else:\n",
    "                    count += 1\n",
    "    \n",
    "    res.append(count)\n",
    "    followers /= float(data_len)\n",
    "    retweets /= float(data_len)\n",
    "    \n",
    "    time_diff = last_datetime - first_datetime\n",
    "    num_hours = divmod(time_diff.total_seconds(), 3600)[0]\n",
    "    tweets_per_hour = float(data_len) / num_hours\n",
    "    \n",
    "    return tweets_per_hour, followers, retweets, res"
   ]
  },
  {
   "cell_type": "code",
   "execution_count": 4,
   "metadata": {},
   "outputs": [
    {
     "name": "stdout",
     "output_type": "stream",
     "text": [
      "{\n",
      "  \"firstpost_date\": 1419804875,\n",
      "  \"title\": \"I &lt;3 our defense! #GoHawks http://t.co/U1pcXpEsR8\",\n",
      "  \"url\": \"http://twitter.com/Mich_Fit/status/549327579782840320\",\n",
      "  \"tweet\": {\n",
      "    \"contributors\": null,\n",
      "    \"truncated\": false,\n",
      "    \"text\": \"I &lt;3 our defense! #GoHawks http://t.co/U1pcXpEsR8\",\n",
      "    \"in_reply_to_status_id\": null,\n",
      "    \"id\": 549327579782840320,\n",
      "    \"favorite_count\": 1,\n",
      "    \"source\": \"<a href=\\\"http://twitter.com\\\" rel=\\\"nofollow\\\">Twitter Web Client</a>\",\n",
      "    \"retweeted\": false,\n",
      "    \"coordinates\": null,\n",
      "    \"entities\": {\n",
      "      \"symbols\": [],\n",
      "      \"media\": [\n",
      "        {\n",
      "          \"expanded_url\": \"http://twitter.com/Mich_Fit/status/549327579782840320/photo/1\",\n",
      "          \"sizes\": {\n",
      "            \"large\": {\n",
      "              \"h\": 511,\n",
      "              \"resize\": \"fit\",\n",
      "              \"w\": 511\n",
      "            },\n",
      "            \"small\": {\n",
      "              \"h\": 340,\n",
      "              \"resize\": \"fit\",\n",
      "              \"w\": 340\n",
      "            },\n",
      "            \"medium\": {\n",
      "              \"h\": 511,\n",
      "              \"resize\": \"fit\",\n",
      "              \"w\": 511\n",
      "            },\n",
      "            \"thumb\": {\n",
      "              \"h\": 150,\n",
      "              \"resize\": \"crop\",\n",
      "              \"w\": 150\n",
      "            }\n",
      "          },\n",
      "          \"url\": \"http://t.co/U1pcXpEsR8\",\n",
      "          \"media_url_https\": \"https://pbs.twimg.com/media/B5-aheMIcAAqGtA.jpg\",\n",
      "          \"id_str\": \"549327579392798720\",\n",
      "          \"indices\": [\n",
      "            30,\n",
      "            52\n",
      "          ],\n",
      "          \"media_url\": \"http://pbs.twimg.com/media/B5-aheMIcAAqGtA.jpg\",\n",
      "          \"type\": \"photo\",\n",
      "          \"id\": 549327579392798720,\n",
      "          \"display_url\": \"pic.twitter.com/U1pcXpEsR8\"\n",
      "        }\n",
      "      ],\n",
      "      \"hashtags\": [\n",
      "        {\n",
      "          \"indices\": [\n",
      "            21,\n",
      "            29\n",
      "          ],\n",
      "          \"text\": \"GoHawks\"\n",
      "        }\n",
      "      ],\n",
      "      \"user_mentions\": [],\n",
      "      \"trends\": [],\n",
      "      \"urls\": []\n",
      "    },\n",
      "    \"in_reply_to_screen_name\": null,\n",
      "    \"in_reply_to_user_id\": null,\n",
      "    \"retweet_count\": 2,\n",
      "    \"id_str\": \"549327579782840320\",\n",
      "    \"favorited\": false,\n",
      "    \"user\": {\n",
      "      \"follow_request_sent\": null,\n",
      "      \"profile_use_background_image\": true,\n",
      "      \"geo_enabled\": true,\n",
      "      \"description\": \"Food, Fitness, Football                                    #EatClean #FitFam #GoHawks\",\n",
      "      \"verified\": false,\n",
      "      \"profile_image_url_https\": \"https://pbs.twimg.com/profile_images/547474027204591617/kgP4YJMW_normal.jpeg\",\n",
      "      \"profile_sidebar_fill_color\": \"DDEEF6\",\n",
      "      \"is_translator\": false,\n",
      "      \"id\": 749230320,\n",
      "      \"profile_text_color\": \"333333\",\n",
      "      \"followers_count\": 2318,\n",
      "      \"profile_sidebar_border_color\": \"C0DEED\",\n",
      "      \"id_str\": \"749230320\",\n",
      "      \"default_profile_image\": false,\n",
      "      \"location\": \"Ontario\",\n",
      "      \"utc_offset\": null,\n",
      "      \"statuses_count\": 12477,\n",
      "      \"profile_background_color\": \"C0DEED\",\n",
      "      \"friends_count\": 2025,\n",
      "      \"profile_link_color\": \"0084B4\",\n",
      "      \"profile_image_url\": \"http://pbs.twimg.com/profile_images/547474027204591617/kgP4YJMW_normal.jpeg\",\n",
      "      \"notifications\": null,\n",
      "      \"profile_background_image_url_https\": \"https://abs.twimg.com/images/themes/theme1/bg.png\",\n",
      "      \"profile_banner_url\": \"https://pbs.twimg.com/profile_banners/749230320/1413579075\",\n",
      "      \"profile_background_image_url\": \"http://abs.twimg.com/images/themes/theme1/bg.png\",\n",
      "      \"name\": \"Michelle\",\n",
      "      \"lang\": \"en\",\n",
      "      \"profile_background_tile\": false,\n",
      "      \"favourites_count\": 9490,\n",
      "      \"screen_name\": \"Mich_Fit\",\n",
      "      \"url\": null,\n",
      "      \"created_at\": \"Fri Aug 10 12:00:57 +0000 2012\",\n",
      "      \"contributors_enabled\": false,\n",
      "      \"time_zone\": null,\n",
      "      \"protected\": false,\n",
      "      \"default_profile\": true,\n",
      "      \"following\": null,\n",
      "      \"listed_count\": 32\n",
      "    },\n",
      "    \"geo\": null,\n",
      "    \"in_reply_to_user_id_str\": null,\n",
      "    \"possibly_sensitive\": false,\n",
      "    \"lang\": \"en\",\n",
      "    \"created_at\": \"Sun Dec 28 22:14:35 +0000 2014\",\n",
      "    \"filter_level\": \"low\",\n",
      "    \"in_reply_to_status_id_str\": null,\n",
      "    \"place\": null,\n",
      "    \"extended_entities\": {\n",
      "      \"media\": [\n",
      "        {\n",
      "          \"expanded_url\": \"http://twitter.com/Mich_Fit/status/549327579782840320/photo/1\",\n",
      "          \"sizes\": {\n",
      "            \"large\": {\n",
      "              \"h\": 511,\n",
      "              \"resize\": \"fit\",\n",
      "              \"w\": 511\n",
      "            },\n",
      "            \"small\": {\n",
      "              \"h\": 340,\n",
      "              \"resize\": \"fit\",\n",
      "              \"w\": 340\n",
      "            },\n",
      "            \"medium\": {\n",
      "              \"h\": 511,\n",
      "              \"resize\": \"fit\",\n",
      "              \"w\": 511\n",
      "            },\n",
      "            \"thumb\": {\n",
      "              \"h\": 150,\n",
      "              \"resize\": \"crop\",\n",
      "              \"w\": 150\n",
      "            }\n",
      "          },\n",
      "          \"url\": \"http://t.co/U1pcXpEsR8\",\n",
      "          \"media_url_https\": \"https://pbs.twimg.com/media/B5-aheMIcAAqGtA.jpg\",\n",
      "          \"id_str\": \"549327579392798720\",\n",
      "          \"indices\": [\n",
      "            30,\n",
      "            52\n",
      "          ],\n",
      "          \"media_url\": \"http://pbs.twimg.com/media/B5-aheMIcAAqGtA.jpg\",\n",
      "          \"type\": \"photo\",\n",
      "          \"id\": 549327579392798720,\n",
      "          \"display_url\": \"pic.twitter.com/U1pcXpEsR8\"\n",
      "        }\n",
      "      ]\n",
      "    }\n",
      "  },\n",
      "  \"author\": {\n",
      "    \"author_img\": \"http://pbs.twimg.com/profile_images/561716455155064833/XGrpP4Rl_normal.jpeg\",\n",
      "    \"name\": \"RJ\",\n",
      "    \"url\": \"http://twitter.com/rejinseattle\",\n",
      "    \"nick\": \"rejinseattle\",\n",
      "    \"followers\": 1752.0,\n",
      "    \"image_url\": \"http://pbs.twimg.com/profile_images/561716455155064833/XGrpP4Rl_normal.jpeg\",\n",
      "    \"type\": \"twitter\",\n",
      "    \"description\": \"Married to my best friend... You-make me laugh and occasionally think... I-will let you in on some of the crazy shit that consumes my thoughts...\"\n",
      "  },\n",
      "  \"original_author\": {\n",
      "    \"author_img\": \"http://pbs.twimg.com/profile_images/547474027204591617/kgP4YJMW_normal.jpeg\",\n",
      "    \"description\": \"Food, Fitness, Football                                    #EatClean #FitFam #GoHawks\",\n",
      "    \"url\": \"http://twitter.com/mich_fit\",\n",
      "    \"nick\": \"mich_fit\",\n",
      "    \"followers\": 2534.0,\n",
      "    \"image_url\": \"http://pbs.twimg.com/profile_images/547474027204591617/kgP4YJMW_normal.jpeg\",\n",
      "    \"type\": \"twitter\",\n",
      "    \"influence_level\": 0.0,\n",
      "    \"name\": \"Michelle\"\n",
      "  },\n",
      "  \"citation_date\": 1421518778,\n",
      "  \"metrics\": {\n",
      "    \"acceleration\": 0,\n",
      "    \"ranking_score\": 4.7437034,\n",
      "    \"citations\": {\n",
      "      \"influential\": 0,\n",
      "      \"total\": 5,\n",
      "      \"data\": [\n",
      "        {\n",
      "          \"timestamp\": 1421518739,\n",
      "          \"citations\": 1\n",
      "        }\n",
      "      ],\n",
      "      \"matching\": 1,\n",
      "      \"replies\": 0\n",
      "    },\n",
      "    \"peak\": 1421518799,\n",
      "    \"impressions\": 1754,\n",
      "    \"momentum\": 1\n",
      "  },\n",
      "  \"highlight\": \"I &lt;3 our defense! #GoHawks http://t.co/U1pcXpEsR8\",\n",
      "  \"type\": \"retweet:native\",\n",
      "  \"citation_url\": \"http://twitter.com/REJinseattle/status/556516209261166593\"\n",
      "}\n"
     ]
    }
   ],
   "source": [
    "sample_data = GetSampleJSON(GOHAWKS)\n",
    "print(json.dumps(sample_data, indent=2))"
   ]
  },
  {
   "cell_type": "code",
   "execution_count": 38,
   "metadata": {},
   "outputs": [
    {
     "name": "stdout",
     "output_type": "stream",
     "text": [
      "Statisics for #gohawks\n",
      "Average tweets per hour: 173.99382716049382\n",
      "Average followers per tweet: 2217.9237355281984\n",
      "Average retweets per tweet: 2.0132093991319877\n",
      "\n",
      "Statisics for #gopatriots\n",
      "Average tweets per hour: 34.42313323572474\n",
      "Average followers per tweet: 1427.2526051635405\n",
      "Average retweets per tweet: 1.4081919101697078\n",
      "\n",
      "Statisics for #nfl\n",
      "Average tweets per hour: 251.64362850971924\n",
      "Average followers per tweet: 4662.37544523693\n",
      "Average retweets per tweet: 1.5344602655543254\n",
      "\n",
      "Statisics for #patriots\n",
      "Average tweets per hour: 449.61326530612246\n",
      "Average followers per tweet: 3280.4635616550277\n",
      "Average retweets per tweet: 1.7852871288476946\n",
      "\n",
      "Statisics for #sb49\n",
      "Average tweets per hour: 1277.7474226804125\n",
      "Average followers per tweet: 10374.160292019487\n",
      "Average retweets per tweet: 2.52713444111402\n",
      "\n",
      "Statisics for #superbowl\n",
      "Average tweets per hour: 1268.3521421107628\n",
      "Average followers per tweet: 8814.96799424623\n",
      "Average retweets per tweet: 2.3911895819207736\n",
      "\n"
     ]
    }
   ],
   "source": [
    "nfl_counts = []\n",
    "superbowl_counts = []\n",
    "for file, hashtag in zip(ALL_FILES, ALL_HASHTAGS):\n",
    "    stats = GetTweetStats(file)\n",
    "    print(\"Statisics for\", hashtag)\n",
    "    print(\"Average tweets per hour:\", stats[0])\n",
    "    print(\"Average followers per tweet:\", stats[1])\n",
    "    print(\"Average retweets per tweet:\", stats[2])\n",
    "    print()\n",
    "    if hashtag == \"#nfl\":\n",
    "        nfl_counts = stats[3]\n",
    "    elif hashtag == \"#superbowl\":\n",
    "        superbowl_counts = stats[3]"
   ]
  },
  {
   "cell_type": "code",
   "execution_count": 39,
   "metadata": {},
   "outputs": [
    {
     "data": {
      "image/png": "[encoded data removed]",
      "text/plain": [
       "<Figure size 432x288 with 1 Axes>"
      ]
     },
     "metadata": {
      "needs_background": "light"
     },
     "output_type": "display_data"
    },
    {
     "data": {
      "image/png": "[encoded data removed]",
      "text/plain": [
       "<Figure size 432x288 with 1 Axes>"
      ]
     },
     "metadata": {
      "needs_background": "light"
     },
     "output_type": "display_data"
    }
   ],
   "source": [
    "plt.bar(range(len(nfl_counts)), nfl_counts)\n",
    "plt.title(\"Number of tweets per hour for nfl hashtag\")\n",
    "plt.xlabel(\"Hours\")\n",
    "plt.ylabel(\"Number of tweets\")\n",
    "plt.show()\n",
    "plt.bar(range(len(superbowl_counts)), superbowl_counts)\n",
    "plt.title(\"Number of tweets per hour for superbowl hashtag\")\n",
    "plt.xlabel(\"Hours\")\n",
    "plt.ylabel(\"Number of tweets\")\n",
    "plt.show()"
   ]
  },
  {
   "cell_type": "code",
   "execution_count": 5,
   "metadata": {},
   "outputs": [],
   "source": [
    "happy_emoticons = [\":)\", \":-)\", \":’)\", \":]\", \"=]\"]\n",
    "sad_emoticons = [\":(\", \":-(\", \":’(\", \":[\", \"=[\"]\n",
    "basic_feature_len = 5\n",
    "total_feature_len = 16\n",
    "\n",
    "def UpdateFeatureHistory(tweet, history):\n",
    "    hashtags = [t for t in tweet['title'].split() if t.startswith('#')]\n",
    "    for h in hashtags:\n",
    "        if h.lower() == history['hashtags'][0] and h not in history['hashtags']:\n",
    "            history['hashtags'].append(h)\n",
    "            \n",
    "    if 'unique_author_count' not in history:\n",
    "        history['unique_author_count'] = 0\n",
    "        history['authors'] = set()\n",
    "        \n",
    "    nameid = tweet['author']['name'] + tweet['author']['nick']\n",
    "    if nameid not in history['authors']:\n",
    "        history['authors'].add(nameid)\n",
    "        history['unique_author_count'] += 1\n",
    "        \n",
    "#     tokens = nltk.tokenize.word_tokenize(tweet['title'])\n",
    "#     stop = stopwords.words('english')\n",
    "    \n",
    "#     if 'pos_score' not in history:\n",
    "#         history['pos_score'] = 0.0\n",
    "#         history['neg_score'] = 0.0\n",
    "    \n",
    "#     pos_map = {\"N\" : 'n', \"V\" : 'v', \"J\" : 'a', \"R\" : 'r'}\n",
    "#     text = []\n",
    "#     for word in tokens:\n",
    "#         if word not in stop and word[0] != '#' and not word.startswith(\"http\"):\n",
    "#             text.append(word)\n",
    "#     text = pos_tag(text)\n",
    "#     for word, pos in text:\n",
    "#         c = pos[0]\n",
    "#         if c not in pos_map:\n",
    "#             continue\n",
    "            \n",
    "#         lemma = lemmatizer.lemmatize(word, pos=pos_map[c])\n",
    "#         if not lemma:\n",
    "#             continue\n",
    "            \n",
    "#         synsets = wn.synsets(word, pos=pos_map[c])\n",
    "#         if not synsets:\n",
    "#             continue\n",
    "\n",
    "#         sent = swn.senti_synset(synsets[0].name())\n",
    "#         history['pos_score'] += sent.pos_score()\n",
    "#         history['neg_score'] += sent.neg_score()\n",
    "    \n",
    "    return history\n",
    "        \n",
    "def UpdateFeature(feature, tweet, cur_datetime, history={}):\n",
    "    feature[0] += 1 # number of tweets in window\n",
    "    feature[1] += tweet['metrics']['citations']['total'] # number of retweets\n",
    "    feature[2] += tweet['author']['followers'] # number of followers\n",
    "    feature[3] = max(feature[3], tweet['author']['followers']) # max number of followers per post\n",
    "    feature[4] = cur_datetime.hour # hour of the day\n",
    "    if len(feature) == total_feature_len:\n",
    "        history = UpdateFeatureHistory(tweet, history)\n",
    "        feature[5] += tweet['title'].count('@') # mention count\n",
    "        feature[6] += 1 if tweet['title'].count(\"http\") > 0 else 0 # url count\n",
    "        feature[7] += (0 if all([tweet['title'].count(emote) == 0 for emote in happy_emoticons]) else 1) # tweets with happy emote\n",
    "        feature[8] += (0 if all([tweet['title'].count(emote) == 0 for emote in sad_emoticons]) else 1) # tweets with sad emote\n",
    "        feature[9] += tweet['title'].count(\"#\") - 1 # number of additional hashtags\n",
    "        feature[10] = len(history['hashtags'][0]) # length of hashtag\n",
    "        feature[11] = len(history['hashtags']) # number of case-sensitive variations\n",
    "        feature[12] = history['unique_author_count'] # unique number of authors\n",
    "#         feature[16] = history['pos_score'] # positive sentiment score\n",
    "#         feature[17] = history['neg_score'] # negative sentiment score\n",
    "    return feature, history\n",
    "\n",
    "def FinalizeFeature(feature):\n",
    "    if len(feature) == total_feature_len and feature[0] != 0:\n",
    "        feature[6] /= float(feature[0]) # change url count to url ratio\n",
    "        feature[13] = float(feature[1]) / feature[0] # add retweet ratio\n",
    "        feature[14] = float(feature[5]) / feature[0] # add mention ratio\n",
    "        feature[15] = float(feature[12]) / feature[0] # add unique author ratio\n",
    "#         feature[16] /= float(feature[0]) # avg pos score\n",
    "#         feature[17] /= float(feature[0]) # avg neg score\n",
    "    return feature\n",
    "    \n",
    "def GetDataTargets(data):\n",
    "    targets = []\n",
    "    for idx in range(len(data)-1):\n",
    "        targets.append(data[idx+1][0])\n",
    "    targets.append(0)\n",
    "    return targets\n",
    "    \n",
    "def GetDataFeatures(filepath, hashtag=\"\", piece_wise=False):\n",
    "    td = datetime.timedelta(hours=1)\n",
    "    data = []\n",
    "    boundarys = []\n",
    "    feature_len = basic_feature_len if hashtag == \"\" else total_feature_len\n",
    "    history = {}\n",
    "    history['hashtags'] = [hashtag]\n",
    "    cur_feature = np.zeros(feature_len)\n",
    "    first_tweet = True\n",
    "    with open(filepath, encoding=\"utf8\") as fp:\n",
    "        for line in fp:\n",
    "            tweet = json.loads(line)\n",
    "            cur_time = tweet['firstpost_date']\n",
    "            cur_datetime = datetime.datetime.fromtimestamp(cur_time, PST_TZ)\n",
    "            if first_tweet:\n",
    "                end_time = cur_datetime.replace(second=0, microsecond=0, minute=0) + td\n",
    "                cur_feature, history = UpdateFeature(cur_feature, tweet, cur_datetime, history)\n",
    "                first_tweet = False\n",
    "            else:\n",
    "                if cur_datetime < end_time:\n",
    "                    cur_feature, history = UpdateFeature(cur_feature, tweet, cur_datetime, history)\n",
    "                else:\n",
    "                    while cur_datetime >= end_time:\n",
    "                        end_time += td\n",
    "                        data.append(FinalizeFeature(cur_feature))\n",
    "                        cur_feature = np.zeros(feature_len)\n",
    "                        history = {}\n",
    "                        history['hashtags'] = [hashtag]\n",
    "                        if piece_wise:\n",
    "                            if end_time.month == 2 and end_time.day == 1 and end_time.hour == 8 and end_time.minute == 0:\n",
    "                                td = datetime.timedelta(minutes=5)\n",
    "                                boundarys.append(len(data))\n",
    "                            elif end_time.month == 2 and end_time.day == 1 and end_time.hour == 20 and end_time.minute == 0:\n",
    "                                td = datetime.timedelta(hours=1)\n",
    "                                boundarys.append(len(data))\n",
    "                    cur_feature, history = UpdateFeature(cur_feature, tweet, cur_datetime, history)\n",
    "    data.append(cur_feature)\n",
    "    targets = GetDataTargets(data)\n",
    "    data = np.array(data)\n",
    "    targets = np.array(targets)\n",
    "    if piece_wise:\n",
    "        data = [data[:boundarys[0]], data[boundarys[0]+1:boundarys[1]], data[boundarys[1]+1:]]\n",
    "        targets = [targets[:boundarys[0]], targets[boundarys[0]+1:boundarys[1]], targets[boundarys[1]+1:]]\n",
    "    return data, targets"
   ]
  },
  {
   "cell_type": "code",
   "execution_count": 6,
   "metadata": {},
   "outputs": [],
   "source": [
    "def ScoreOLS(data, targets, verbose=True, return_model=False, printps=True):\n",
    "    data = sm.add_constant(data)\n",
    "    model = sm.OLS(targets, data)\n",
    "    results = model.fit()\n",
    "    \n",
    "    preds = results.predict(data)\n",
    "    mse = mean_squared_error(targets, preds)\n",
    "    r2 = r2_score(targets, preds)\n",
    "\n",
    "    if verbose:\n",
    "        print(\"mse:\", mse)\n",
    "        print(\"r2:\", r2)\n",
    "        if printps:\n",
    "            print(\"tvalues:\", results.tvalues)\n",
    "            print(\"pvalues:\", results.pvalues)\n",
    "    if return_model:\n",
    "        return results"
   ]
  },
  {
   "cell_type": "code",
   "execution_count": 7,
   "metadata": {},
   "outputs": [
    {
     "name": "stdout",
     "output_type": "stream",
     "text": [
      "Results for #gohawks\n",
      "data shape: (973, 5)\n",
      "mse: 453578.74861399474\n",
      "r2: 0.4859092761755248\n",
      "tvalues: [ 1.08077764 10.44064355 -4.07835853 -2.9768586   0.65304     1.37735108]\n",
      "pvalues: [2.80065503e-01 2.97508596e-24 4.90865442e-05 2.98474171e-03\n",
      " 5.13885719e-01 1.68722443e-01]\n",
      "\n",
      "Results for #gopatriots\n",
      "data shape: (684, 5)\n",
      "mse: 21831.47522865118\n",
      "r2: 0.653971081911064\n",
      "tvalues: [ 0.17076797 -1.59989195  8.02088091 -3.604888    2.54022053 -0.18773757]\n",
      "pvalues: [8.64457165e-01 1.10088401e-01 4.61673254e-15 3.35183637e-04\n",
      " 1.13002596e-02 8.51138550e-01]\n",
      "\n",
      "Results for #nfl\n",
      "data shape: (927, 5)\n",
      "mse: 173049.88794530474\n",
      "r2: 0.6014683557318541\n",
      "tvalues: [ 2.01563501  5.58944403 -3.53909633  4.94821016 -3.34897774  2.39503814]\n",
      "pvalues: [4.41281846e-02 3.00072288e-08 4.21575799e-04 8.90288019e-07\n",
      " 8.44009171e-04 1.68175348e-02]\n",
      "\n",
      "Results for #patriots\n",
      "data shape: (981, 5)\n",
      "mse: 2786511.1091143223\n",
      "r2: 0.7080068674117341\n",
      "tvalues: [  1.05038766  21.65141621 -12.11920832   6.65463573  -1.31312292\n",
      "   1.00209429]\n",
      "pvalues: [2.93800191e-01 3.41281687e-85 1.37310323e-31 4.72998917e-11\n",
      " 1.89450484e-01 3.16546685e-01]\n",
      "\n",
      "Results for #sb49\n",
      "data shape: (583, 5)\n",
      "mse: 16215653.098025376\n",
      "r2: 0.8039677993719475\n",
      "tvalues: [ 6.15402938e-01  1.16459793e+01 -1.15885448e+00 -2.94583491e-03\n",
      "  2.22213931e+00 -6.53457776e-01]\n",
      "pvalues: [5.38531297e-01 2.66943212e-28 2.46994882e-01 9.97650585e-01\n",
      " 2.66608928e-02 5.13721511e-01]\n",
      "\n",
      "Results for #superbowl\n",
      "data shape: (959, 5)\n",
      "mse: 33179347.8645714\n",
      "r2: 0.7928758457951873\n",
      "tvalues: [ -0.41379499   5.48321546   4.23812302 -21.4726275   12.58014466\n",
      "  -1.57933626]\n",
      "pvalues: [6.79117354e-01 5.34996023e-08 2.47299661e-05 9.82943706e-84\n",
      " 1.09494540e-33 1.14590784e-01]\n",
      "\n"
     ]
    }
   ],
   "source": [
    "for file, hashtag in zip(ALL_FILES, ALL_HASHTAGS):\n",
    "    data, targets = GetDataFeatures(file)\n",
    "    print(\"Results for\", hashtag)\n",
    "    print(\"data shape:\", data.shape)\n",
    "    ScoreOLS(data, targets)\n",
    "    print()"
   ]
  },
  {
   "cell_type": "code",
   "execution_count": 10,
   "metadata": {},
   "outputs": [
    {
     "name": "stdout",
     "output_type": "stream",
     "text": [
      "Results for #gohawks\n",
      "data shape: (973, 16)\n",
      "mse: 330299.9075028313\n",
      "r2: 0.6256347568175098\n",
      "tvalues: [ 7.25701319e-03 -4.03389902e+00 -2.38422264e+00 -3.92733025e+00\n",
      "  1.95517417e+00 -6.77233034e-01 -4.89324029e-01 -1.01206166e-01\n",
      " -2.90423550e+00  9.54651216e+00  8.01078294e+00 -8.38225671e-01\n",
      "  2.37625906e+00  2.23330478e+00  8.60169803e-01 -4.33989395e-01\n",
      "  2.88460358e-01]\n",
      "pvalues: [9.94211306e-01 5.92341486e-05 1.73094625e-02 9.20651955e-05\n",
      " 5.08535727e-02 4.98421956e-01 6.24724560e-01 9.19408023e-01\n",
      " 3.76626186e-03 1.08277541e-20 3.30070260e-15 4.02113494e-01\n",
      " 1.76853261e-02 2.57595847e-02 3.89911104e-01 6.64394064e-01\n",
      " 7.73056902e-01]\n"
     ]
    }
   ],
   "source": [
    "gohawks_data, gohawks_targets = GetDataFeatures(GOHAWKS, \"#gohawks\")\n",
    "print(\"Results for #gohawks\")\n",
    "print(\"data shape:\", gohawks_data.shape)\n",
    "ScoreOLS(gohawks_data, gohawks_targets)"
   ]
  },
  {
   "cell_type": "code",
   "execution_count": 11,
   "metadata": {},
   "outputs": [
    {
     "name": "stdout",
     "output_type": "stream",
     "text": [
      "Results for #gopatriots\n",
      "data shape: (684, 16)\n",
      "mse: 6416.508595213122\n",
      "r2: 0.8982983282688985\n",
      "tvalues: [  0.08796315  -2.47107699   1.51756654   9.91691012 -11.33160107\n",
      "  -0.17389969  19.71687763  -0.82795446 -19.8236465    2.86467041\n",
      "   8.07069981  -2.717644     0.80460701 -11.39790054  -0.91045565\n",
      "  -4.03100146   3.14836454]\n",
      "pvalues: [9.29932367e-01 1.37194560e-02 1.29597509e-01 1.02452533e-21\n",
      " 2.41066444e-27 8.61997062e-01 1.56016680e-68 4.07992431e-01\n",
      " 4.10857983e-69 4.30573970e-03 3.26033415e-15 6.74556120e-03\n",
      " 4.21333188e-01 1.27616459e-27 3.62911158e-01 6.19462580e-05\n",
      " 1.71510623e-03]\n"
     ]
    }
   ],
   "source": [
    "gopatriots_data, gopatriots_targets = GetDataFeatures(GOPATRIOTS, \"#gopatriots\")\n",
    "print(\"Results for #gopatriots\")\n",
    "print(\"data shape:\", gopatriots_data.shape)\n",
    "ScoreOLS(gopatriots_data, gopatriots_targets)"
   ]
  },
  {
   "cell_type": "code",
   "execution_count": 12,
   "metadata": {},
   "outputs": [
    {
     "name": "stdout",
     "output_type": "stream",
     "text": [
      "Results for #nfl\n",
      "data shape: (927, 16)\n",
      "mse: 96243.55439001656\n",
      "r2: 0.7783523443055502\n",
      "tvalues: [ 1.80231284e-02  8.11582186e+00  4.63444034e-01 -2.47572230e+00\n",
      "  2.46210770e+00 -2.02870372e+00  5.02723222e+00 -1.74930415e+00\n",
      "  4.00141554e+00  2.30342439e+00  1.27267607e+01 -2.48697168e+00\n",
      "  1.48815326e+00 -1.98282189e+01 -1.46636423e+00 -1.08790033e+00\n",
      "  6.38827582e+00]\n",
      "pvalues: [9.85624353e-01 1.55775641e-15 6.43156943e-01 1.34777204e-02\n",
      " 1.39967311e-02 4.27792250e-02 5.99200848e-07 8.05755609e-02\n",
      " 6.80829959e-05 2.14796309e-02 2.88864109e-34 1.30618038e-02\n",
      " 1.37056916e-01 5.26676725e-73 1.42894550e-01 2.76927154e-01\n",
      " 2.67357820e-10]\n"
     ]
    }
   ],
   "source": [
    "nfl_data, nfl_targets = GetDataFeatures(NFL, \"#nfl\")\n",
    "print(\"Results for #nfl\")\n",
    "print(\"data shape:\", nfl_data.shape)\n",
    "ScoreOLS(nfl_data, nfl_targets)"
   ]
  },
  {
   "cell_type": "code",
   "execution_count": 13,
   "metadata": {},
   "outputs": [
    {
     "name": "stdout",
     "output_type": "stream",
     "text": [
      "Results for #patriots\n",
      "data shape: (981, 16)\n",
      "mse: 2221685.164195578\n",
      "r2: 0.7671938903826823\n",
      "tvalues: [ 2.12247347e-03 -7.96857448e-01  2.71267542e+00  9.27450478e+00\n",
      " -6.62960254e+00  3.20617412e-01  4.48286231e+00 -1.03868395e+00\n",
      " -5.84542034e+00  1.67017529e-01  1.87199214e+00  1.84557531e+00\n",
      " -3.74902313e+00 -9.79019548e-01 -1.21088037e+00  1.27714822e+00\n",
      "  2.06179798e-01]\n",
      "pvalues: [9.98306952e-01 4.25730035e-01 6.79314147e-03 1.13974243e-19\n",
      " 5.59582395e-11 7.48569828e-01 8.24947815e-06 2.99212199e-01\n",
      " 6.91006424e-09 8.67391283e-01 6.15102938e-02 6.52603945e-02\n",
      " 1.88090497e-04 3.27815945e-01 2.26238034e-01 2.01857442e-01\n",
      " 8.36694003e-01]\n"
     ]
    }
   ],
   "source": [
    "patriots_data, patriots_targets = GetDataFeatures(PATRIOTS, \"#patriots\")\n",
    "print(\"Results for #patriots\")\n",
    "print(\"data shape:\", patriots_data.shape)\n",
    "ScoreOLS(patriots_data, patriots_targets)"
   ]
  },
  {
   "cell_type": "code",
   "execution_count": 14,
   "metadata": {},
   "outputs": [
    {
     "name": "stdout",
     "output_type": "stream",
     "text": [
      "Results for #sb49\n",
      "data shape: (583, 16)\n",
      "mse: 11787020.632727424\n",
      "r2: 0.8575058568709029\n",
      "tvalues: [ 2.11574343e-03 -1.94219542e+00  4.21913798e+00  7.86353444e-02\n",
      "  1.16084164e+00 -6.04388690e-01  1.00785684e+01  3.20077205e-01\n",
      "  9.20179274e+00 -3.01432154e+00  5.20197106e+00 -4.01037053e-01\n",
      " -3.44934139e-01 -4.87995416e+00 -2.41064346e+00  1.11923907e+00\n",
      "  5.29609032e-01]\n",
      "pvalues: [9.98312628e-01 5.26091539e-02 2.85576035e-05 9.37350466e-01\n",
      " 2.46195665e-01 5.45827440e-01 4.39637732e-22 7.49027926e-01\n",
      " 6.73850086e-19 2.69090907e-03 2.76067761e-07 6.88544194e-01\n",
      " 7.30272023e-01 1.38163040e-06 1.62421157e-02 2.63512912e-01\n",
      " 5.96590697e-01]\n"
     ]
    }
   ],
   "source": [
    "sb49_data, sb49_targets = GetDataFeatures(SB49, \"#sb49\")\n",
    "print(\"Results for #sb49\")\n",
    "print(\"data shape:\", sb49_data.shape)\n",
    "ScoreOLS(sb49_data, sb49_targets)"
   ]
  },
  {
   "cell_type": "code",
   "execution_count": 15,
   "metadata": {},
   "outputs": [
    {
     "name": "stdout",
     "output_type": "stream",
     "text": [
      "Results for #superbowl\n",
      "data shape: (959, 16)\n",
      "mse: 22603641.061547738\n",
      "r2: 0.8588953569572297\n",
      "tvalues: [ 2.11410691e-04  6.62195160e+00 -2.09526488e+00 -8.26119382e+00\n",
      "  7.05244444e+00 -1.36631581e+00 -3.34311973e+00  1.73783465e-01\n",
      "  2.00691468e+00 -7.21613345e+00  1.25615124e+01 -3.81152823e-01\n",
      " -3.81296601e+00 -8.77113560e+00  5.61322812e-01  4.75000722e-01\n",
      "  1.01175223e+00]\n",
      "pvalues: [9.99831363e-01 5.94786572e-11 3.64139519e-02 4.85692393e-16\n",
      " 3.40067000e-12 1.72165916e-01 8.61056274e-04 8.62072977e-01\n",
      " 4.50440789e-02 1.09976076e-12 1.42720669e-33 7.03175800e-01\n",
      " 1.46240079e-04 8.16160104e-18 5.74710999e-01 6.34896566e-01\n",
      " 3.11916334e-01]\n"
     ]
    }
   ],
   "source": [
    "superbowl_data, superbowl_targets = GetDataFeatures(SUPERBOWL, \"#superbowl\")\n",
    "print(\"Results for #superbowl\")\n",
    "print(\"data shape:\", superbowl_data.shape)\n",
    "ScoreOLS(superbowl_data, superbowl_targets)"
   ]
  },
  {
   "cell_type": "code",
   "execution_count": 49,
   "metadata": {},
   "outputs": [],
   "source": [
    "all_measures = [\"number of tweets\", \"number of retweets\", \"number of followers\", \"max number of followers\", \n",
    "               \"hour of the day\", \"mention count\", \"url ratio\", \"happy emote count\", \"sad emote count\",\n",
    "               \"number of extra hashtags\", \"length of hashtag\", \"number of case-sensitive variations\", \"unique author count\",\n",
    "               \"retweet ratio\", \"mention ratio\", \"author ratio\", \"positive sentiment score\", \"negative sentiment score\"]\n",
    "\n",
    "def PlotPValues(data, target, model, hashtag):\n",
    "    pvalues = model.pvalues\n",
    "    inds = np.argsort(pvalues)[:3] - 1\n",
    "    for i in range(3):\n",
    "        print(\"pvalue:\", pvalues[inds[i]+1])\n",
    "        print(\"coefficient:\", model.params[inds[i]+1])\n",
    "        plt.scatter(data[:, inds[i]], target)\n",
    "        plt.title(\"{} vs target for {}\".format(all_measures[inds[i]], hashtag))\n",
    "        plt.xlabel(all_measures[inds[i]])\n",
    "        plt.ylabel(\"Number of tweets in next hour\")\n",
    "        plt.show()"
   ]
  },
  {
   "cell_type": "code",
   "execution_count": 50,
   "metadata": {},
   "outputs": [
    {
     "name": "stdout",
     "output_type": "stream",
     "text": [
      "pvalue: 1.0827754083574978e-20\n",
      "coefficient: 340.2934075970114\n"
     ]
    },
    {
     "data": {
      "image/png": "[encoded data removed]",
      "text/plain": [
       "<Figure size 432x288 with 1 Axes>"
      ]
     },
     "metadata": {
      "needs_background": "light"
     },
     "output_type": "display_data"
    },
    {
     "name": "stdout",
     "output_type": "stream",
     "text": [
      "pvalue: 3.3007026004195017e-15\n",
      "coefficient: 1.608416745935025\n"
     ]
    },
    {
     "data": {
      "image/png": "[encoded data removed]",
      "text/plain": [
       "<Figure size 432x288 with 1 Axes>"
      ]
     },
     "metadata": {
      "needs_background": "light"
     },
     "output_type": "display_data"
    },
    {
     "name": "stdout",
     "output_type": "stream",
     "text": [
      "pvalue: 5.923414856764107e-05\n",
      "coefficient: -1.3479651169105682\n"
     ]
    },
    {
     "data": {
      "image/png": "[encoded data removed]",
      "text/plain": [
       "<Figure size 432x288 with 1 Axes>"
      ]
     },
     "metadata": {
      "needs_background": "light"
     },
     "output_type": "display_data"
    }
   ],
   "source": [
    "model = ScoreOLS(gohawks_data, gohawks_targets, verbose=False, return_model=True)\n",
    "PlotPValues(gohawks_data, gohawks_targets, model, \"#gohawks\")"
   ]
  },
  {
   "cell_type": "code",
   "execution_count": 51,
   "metadata": {},
   "outputs": [
    {
     "name": "stdout",
     "output_type": "stream",
     "text": [
      "pvalue: 4.1085798260508503e-69\n",
      "coefficient: -152.90625490207196\n"
     ]
    },
    {
     "data": {
      "image/png": "[encoded data removed]",
      "text/plain": [
       "<Figure size 432x288 with 1 Axes>"
      ]
     },
     "metadata": {
      "needs_background": "light"
     },
     "output_type": "display_data"
    },
    {
     "name": "stdout",
     "output_type": "stream",
     "text": [
      "pvalue: 1.5601667979993539e-68\n",
      "coefficient: 7.962510360323975\n"
     ]
    },
    {
     "data": {
      "image/png": "[encoded data removed]",
      "text/plain": [
       "<Figure size 432x288 with 1 Axes>"
      ]
     },
     "metadata": {
      "needs_background": "light"
     },
     "output_type": "display_data"
    },
    {
     "name": "stdout",
     "output_type": "stream",
     "text": [
      "pvalue: 1.2761645871976947e-27\n",
      "coefficient: -4.250039609143718\n"
     ]
    },
    {
     "data": {
      "image/png": "[encoded data removed]",
      "text/plain": [
       "<Figure size 432x288 with 1 Axes>"
      ]
     },
     "metadata": {
      "needs_background": "light"
     },
     "output_type": "display_data"
    }
   ],
   "source": [
    "model = ScoreOLS(gopatriots_data, gopatriots_targets, verbose=False, return_model=True)\n",
    "PlotPValues(gopatriots_data, gopatriots_targets, model, \"#gopatriots\")"
   ]
  },
  {
   "cell_type": "code",
   "execution_count": 52,
   "metadata": {},
   "outputs": [
    {
     "name": "stdout",
     "output_type": "stream",
     "text": [
      "pvalue: 5.266767250548962e-73\n",
      "coefficient: -4.640467698295142\n"
     ]
    },
    {
     "data": {
      "image/png": "[encoded data removed]",
      "text/plain": [
       "<Figure size 432x288 with 1 Axes>"
      ]
     },
     "metadata": {
      "needs_background": "light"
     },
     "output_type": "display_data"
    },
    {
     "name": "stdout",
     "output_type": "stream",
     "text": [
      "pvalue: 2.888641085144953e-34\n",
      "coefficient: 0.937153657854677\n"
     ]
    },
    {
     "data": {
      "image/png": "[encoded data removed]",
      "text/plain": [
       "<Figure size 432x288 with 1 Axes>"
      ]
     },
     "metadata": {
      "needs_background": "light"
     },
     "output_type": "display_data"
    },
    {
     "name": "stdout",
     "output_type": "stream",
     "text": [
      "pvalue: 1.5577564124155443e-15\n",
      "coefficient: 1.58845260249316\n"
     ]
    },
    {
     "data": {
      "image/png": "[encoded data removed]",
      "text/plain": [
       "<Figure size 432x288 with 1 Axes>"
      ]
     },
     "metadata": {
      "needs_background": "light"
     },
     "output_type": "display_data"
    }
   ],
   "source": [
    "model = ScoreOLS(nfl_data, nfl_targets, verbose=False, return_model=True)\n",
    "PlotPValues(nfl_data, nfl_targets, model, \"#nfl\")"
   ]
  },
  {
   "cell_type": "code",
   "execution_count": 53,
   "metadata": {},
   "outputs": [
    {
     "name": "stdout",
     "output_type": "stream",
     "text": [
      "pvalue: 1.1397424325090598e-19\n",
      "coefficient: 0.00045287046844767607\n"
     ]
    },
    {
     "data": {
      "image/png": "[encoded data removed]",
      "text/plain": [
       "<Figure size 432x288 with 1 Axes>"
      ]
     },
     "metadata": {
      "needs_background": "light"
     },
     "output_type": "display_data"
    },
    {
     "name": "stdout",
     "output_type": "stream",
     "text": [
      "pvalue: 5.595823950617835e-11\n",
      "coefficient: -0.0005635459151861768\n"
     ]
    },
    {
     "data": {
      "image/png": "[encoded data removed]",
      "text/plain": [
       "<Figure size 432x288 with 1 Axes>"
      ]
     },
     "metadata": {
      "needs_background": "light"
     },
     "output_type": "display_data"
    },
    {
     "name": "stdout",
     "output_type": "stream",
     "text": [
      "pvalue: 6.910064244475494e-09\n",
      "coefficient: -199.42934817815953\n"
     ]
    },
    {
     "data": {
      "image/png": "[encoded data removed]",
      "text/plain": [
       "<Figure size 432x288 with 1 Axes>"
      ]
     },
     "metadata": {
      "needs_background": "light"
     },
     "output_type": "display_data"
    }
   ],
   "source": [
    "model = ScoreOLS(patriots_data, patriots_targets, verbose=False, return_model=True)\n",
    "PlotPValues(patriots_data, patriots_targets, model, \"#patriots\")"
   ]
  },
  {
   "cell_type": "code",
   "execution_count": 54,
   "metadata": {},
   "outputs": [
    {
     "name": "stdout",
     "output_type": "stream",
     "text": [
      "pvalue: 4.3963773186234935e-22\n",
      "coefficient: 3.0242464825265825\n"
     ]
    },
    {
     "data": {
      "image/png": "[encoded data removed]",
      "text/plain": [
       "<Figure size 432x288 with 1 Axes>"
      ]
     },
     "metadata": {
      "needs_background": "light"
     },
     "output_type": "display_data"
    },
    {
     "name": "stdout",
     "output_type": "stream",
     "text": [
      "pvalue: 6.738500855396772e-19\n",
      "coefficient: 651.950889869807\n"
     ]
    },
    {
     "data": {
      "image/png": "[encoded data removed]",
      "text/plain": [
       "<Figure size 432x288 with 1 Axes>"
      ]
     },
     "metadata": {
      "needs_background": "light"
     },
     "output_type": "display_data"
    },
    {
     "name": "stdout",
     "output_type": "stream",
     "text": [
      "pvalue: 2.760677607931109e-07\n",
      "coefficient: 2.2489820188571414\n"
     ]
    },
    {
     "data": {
      "image/png": "[encoded data removed]",
      "text/plain": [
       "<Figure size 432x288 with 1 Axes>"
      ]
     },
     "metadata": {
      "needs_background": "light"
     },
     "output_type": "display_data"
    }
   ],
   "source": [
    "model = ScoreOLS(sb49_data, sb49_targets, verbose=False, return_model=True)\n",
    "PlotPValues(sb49_data, sb49_targets, model, \"#sb49\")"
   ]
  },
  {
   "cell_type": "code",
   "execution_count": 55,
   "metadata": {},
   "outputs": [
    {
     "name": "stdout",
     "output_type": "stream",
     "text": [
      "pvalue: 1.4272066859256836e-33\n",
      "coefficient: 4.731419808508724\n"
     ]
    },
    {
     "data": {
      "image/png": "[encoded data removed]",
      "text/plain": [
       "<Figure size 432x288 with 1 Axes>"
      ]
     },
     "metadata": {
      "needs_background": "light"
     },
     "output_type": "display_data"
    },
    {
     "name": "stdout",
     "output_type": "stream",
     "text": [
      "pvalue: 8.161601042133037e-18\n",
      "coefficient: -4.7359578817685986\n"
     ]
    },
    {
     "data": {
      "image/png": "[encoded data removed]",
      "text/plain": [
       "<Figure size 432x288 with 1 Axes>"
      ]
     },
     "metadata": {
      "needs_background": "light"
     },
     "output_type": "display_data"
    },
    {
     "name": "stdout",
     "output_type": "stream",
     "text": [
      "pvalue: 4.856923933127093e-16\n",
      "coefficient: -0.00013963991685718454\n"
     ]
    },
    {
     "data": {
      "image/png": "[encoded data removed]",
      "text/plain": [
       "<Figure size 432x288 with 1 Axes>"
      ]
     },
     "metadata": {
      "needs_background": "light"
     },
     "output_type": "display_data"
    }
   ],
   "source": [
    "model = ScoreOLS(superbowl_data, superbowl_targets, verbose=False, return_model=True)\n",
    "PlotPValues(superbowl_data, superbowl_targets, model, \"#superbowl\")"
   ]
  },
  {
   "cell_type": "code",
   "execution_count": 19,
   "metadata": {},
   "outputs": [],
   "source": [
    "def GetPieceWiseOLS(datafile, hashtag, printps=False):\n",
    "    datap, targetsp = GetDataFeatures(datafile, hashtag, piece_wise=True)\n",
    "    print(\"Results for\", hashtag)\n",
    "    for i in range(3):\n",
    "        print(\"Time interval:\", i+1)\n",
    "        print(\"data shape:\", datap[i].shape)\n",
    "        ScoreOLS(datap[i], targetsp[i], printps=printps)\n",
    "        print()\n",
    "    return datap, targetsp"
   ]
  },
  {
   "cell_type": "code",
   "execution_count": 20,
   "metadata": {},
   "outputs": [
    {
     "name": "stdout",
     "output_type": "stream",
     "text": [
      "Results for #gohawks\n",
      "Time interval: 1\n",
      "data shape: (833, 16)\n",
      "mse: 271375.445382461\n",
      "r2: 0.514329993545904\n",
      "\n",
      "Time interval: 2\n",
      "data shape: (143, 16)\n",
      "mse: 60163.390637118224\n",
      "r2: 0.5754308683619143\n",
      "\n",
      "Time interval: 3\n",
      "data shape: (127, 16)\n",
      "mse: 477.2147102396605\n",
      "r2: 0.9520417533827094\n",
      "\n"
     ]
    }
   ],
   "source": [
    "gohawks_datap, gohawks_targetsp = GetPieceWiseOLS(GOHAWKS, \"#gohawks\", printps=False)"
   ]
  },
  {
   "cell_type": "code",
   "execution_count": 21,
   "metadata": {},
   "outputs": [
    {
     "name": "stdout",
     "output_type": "stream",
     "text": [
      "Results for #gopatriots\n",
      "Time interval: 1\n",
      "data shape: (547, 16)\n",
      "mse: 816.0768269847177\n",
      "r2: 0.7536959469681632\n",
      "\n",
      "Time interval: 2\n",
      "data shape: (143, 16)\n",
      "mse: 12402.085360497958\n",
      "r2: 0.521018658756186\n",
      "\n",
      "Time interval: 3\n",
      "data shape: (124, 16)\n",
      "mse: 9.325205382178705\n",
      "r2: 0.9334412016258181\n",
      "\n"
     ]
    }
   ],
   "source": [
    "gopatriots_datap, gopatriots_targetsp = GetPieceWiseOLS(GOPATRIOTS, \"#gopatriots\", printps=False)"
   ]
  },
  {
   "cell_type": "code",
   "execution_count": 22,
   "metadata": {},
   "outputs": [
    {
     "name": "stdout",
     "output_type": "stream",
     "text": [
      "Results for #nfl\n",
      "Time interval: 1\n",
      "data shape: (779, 16)\n",
      "mse: 33315.6413326962\n",
      "r2: 0.6484421163339069\n",
      "\n",
      "Time interval: 2\n",
      "data shape: (143, 16)\n",
      "mse: 16489.828140449263\n",
      "r2: 0.8566773945615471\n",
      "\n",
      "Time interval: 3\n",
      "data shape: (135, 16)\n",
      "mse: 14829.158233528085\n",
      "r2: 0.8295244157635824\n",
      "\n"
     ]
    }
   ],
   "source": [
    "nfl_datap, nfl_targetsp = GetPieceWiseOLS(NFL, \"#nfl\", printps=False)"
   ]
  },
  {
   "cell_type": "code",
   "execution_count": 23,
   "metadata": {},
   "outputs": [
    {
     "name": "stdout",
     "output_type": "stream",
     "text": [
      "Results for #patriots\n",
      "Time interval: 1\n",
      "data shape: (833, 16)\n",
      "mse: 158980.53614173608\n",
      "r2: 0.6354641056037005\n",
      "\n",
      "Time interval: 2\n",
      "data shape: (143, 16)\n",
      "mse: 597599.384736016\n",
      "r2: 0.7451969099086138\n",
      "\n",
      "Time interval: 3\n",
      "data shape: (135, 16)\n",
      "mse: 10113.21638358279\n",
      "r2: 0.8727366263682212\n",
      "\n"
     ]
    }
   ],
   "source": [
    "patriots_datap, patriots_targetsp = GetPieceWiseOLS(PATRIOTS, \"#patriots\", printps=False)"
   ]
  },
  {
   "cell_type": "code",
   "execution_count": 24,
   "metadata": {},
   "outputs": [
    {
     "name": "stdout",
     "output_type": "stream",
     "text": [
      "Results for #sb49\n",
      "Time interval: 1\n",
      "data shape: (435, 16)\n",
      "mse: 5552.573110082231\n",
      "r2: 0.8940050125720045\n",
      "\n",
      "Time interval: 2\n",
      "data shape: (143, 16)\n",
      "mse: 1096174.3937818054\n",
      "r2: 0.885815537772451\n",
      "\n",
      "Time interval: 3\n",
      "data shape: (135, 16)\n",
      "mse: 60863.90937327502\n",
      "r2: 0.8311302759630507\n",
      "\n"
     ]
    }
   ],
   "source": [
    "sb49_datap, sb49_targetsp = GetPieceWiseOLS(SB49, \"#sb49\", printps=False)"
   ]
  },
  {
   "cell_type": "code",
   "execution_count": 25,
   "metadata": {},
   "outputs": [
    {
     "name": "stdout",
     "output_type": "stream",
     "text": [
      "Results for #superbowl\n",
      "Time interval: 1\n",
      "data shape: (811, 16)\n",
      "mse: 239493.10602732404\n",
      "r2: 0.5379453607842346\n",
      "\n",
      "Time interval: 2\n",
      "data shape: (143, 16)\n",
      "mse: 3410216.117415681\n",
      "r2: 0.9448128527054891\n",
      "\n",
      "Time interval: 3\n",
      "data shape: (135, 16)\n",
      "mse: 114352.33469416547\n",
      "r2: 0.837117820880704\n",
      "\n"
     ]
    }
   ],
   "source": [
    "superbowl_datap, superbowl_targetsp = GetPieceWiseOLS(SUPERBOWL, \"#superbowl\", printps=False)"
   ]
  },
  {
   "cell_type": "code",
   "execution_count": 8,
   "metadata": {},
   "outputs": [],
   "source": [
    "import copy\n",
    "\n",
    "def FinalizeMergedFeatures(feature):\n",
    "    if len(feature) == total_feature_len and feature[0] != 0:\n",
    "        feature[6] /= float(feature[0]) # change url count to url ratio\n",
    "        feature[13] = float(feature[1]) / feature[0] # add retweet ratio\n",
    "        feature[14] = float(feature[5]) / feature[0] # add mention ratio\n",
    "        feature[15] = float(feature[12]) / feature[0] # add unique author ratio\n",
    "#         feature[16] /= float(feature[0]) # avg pos score\n",
    "#         feature[17] /= float(feature[0]) # avg neg score\n",
    "    return feature\n",
    "        \n",
    "def MergeFeatures(feature, data_sample):\n",
    "    feature[0] += data_sample[0]\n",
    "    feature[1] += data_sample[1]\n",
    "    feature[2] += data_sample[2]\n",
    "    feature[3] = max(feature[3], data_sample[3])\n",
    "    feature[4] = data_sample[4]\n",
    "    if len(feature) == total_feature_len:\n",
    "        feature[5] += data_sample[5]\n",
    "        feature[6] += data_sample[6]\n",
    "        feature[7] += data_sample[7]\n",
    "        feature[8] += data_sample[8]\n",
    "        feature[9] += data_sample[9]\n",
    "        feature[10] += data_sample[10]\n",
    "        feature[11] += data_sample[11]\n",
    "        feature[12] = max(feature[12], data_sample[12])\n",
    "    \n",
    "    return feature\n",
    "        \n",
    "def MergeIntervals(all_data, all_targets):\n",
    "    data_res = []\n",
    "    target_res = []\n",
    "    for i in range(3):\n",
    "        data_interval_res = []\n",
    "        target_interval_res = []\n",
    "        for j in range(len(all_data[0][i])):\n",
    "            feature = np.zeros(len(all_data[0][0][0]))\n",
    "            target = 0\n",
    "            for n in range(len(all_data)):\n",
    "                feature = MergeFeatures(feature, all_data[n][i][j])\n",
    "                target += all_targets[n][i][j]\n",
    "            data_interval_res.append(FinalizeMergedFeatures(feature))\n",
    "            target_interval_res.append(target)\n",
    "        data_res.append(np.array(data_interval_res))\n",
    "        target_res.append(np.array(target_interval_res))\n",
    "    return data_res, target_res\n",
    "        \n",
    "def RescaleData(data):\n",
    "    for i in range(len(data)):\n",
    "        if data[i, 0] != 0:\n",
    "            data[i, 6] *= data[i, 0]\n",
    "            data[i, 13] *= data[i, 0]\n",
    "            data[i, 14] *= data[i, 0]\n",
    "            data[i, 15] *= data[i, 0]\n",
    "    return data\n",
    "\n",
    "def UndoFinalization(all_data):\n",
    "    for i in range(len(all_data)):\n",
    "        for j in range(3):\n",
    "            if len(all_data[i][j][0]) == total_feature_len:\n",
    "                all_data[i][j] = RescaleData(all_data[i][j])\n",
    "    return all_data\n",
    "\n",
    "def AggregateAllData(all_data, all_targets):\n",
    "    n = len(all_data)\n",
    "    all_data = copy.deepcopy(all_data)\n",
    "    all_targets = copy.deepcopy(all_targets)\n",
    "    prepend_lens = {0 : 0, 1 : 286, 2 : 54, 3 : 0, 4 : 398, 5 : 22}\n",
    "    \n",
    "    for i in range(n):\n",
    "        if len(all_data[i][0]) == total_feature_len:\n",
    "            all_data[i] = RescaleData(all_data[i])\n",
    "        \n",
    "    for i in range(n):\n",
    "        all_data[i] = np.vstack((np.zeros((prepend_lens[i], len(all_data[i][0]))), all_data[i]))\n",
    "        all_targets[i] = np.hstack((np.zeros(prepend_lens[i]), all_targets[i]))\n",
    "    maxlen = max([len(all_data[i]) for i in range(6)])\n",
    "    for i in range(n):\n",
    "        l = len(all_data[i])\n",
    "        if l < maxlen:\n",
    "            all_data[i] = np.vstack((all_data[i], np.zeros((maxlen - l, len(all_data[i][0])))))\n",
    "            all_targets[i] = np.hstack((all_targets[i], np.zeros(maxlen - l)))\n",
    "    \n",
    "    data_res = []\n",
    "    target_res = []\n",
    "    for j in range(len(all_data[0])):\n",
    "        feature = np.zeros(len(all_data[0][0]))\n",
    "        target = 0\n",
    "        for i in range(n):\n",
    "            feature = MergeFeatures(feature, all_data[i][j])\n",
    "            target += all_targets[i][j]\n",
    "        data_res.append(FinalizeMergedFeatures(feature))\n",
    "        target_res.append(target)\n",
    "\n",
    "    return np.array(data_res), np.array(target_res)\n",
    "        \n",
    "def MergePieceWiseData(all_data, all_targets):\n",
    "    all_data = copy.deepcopy(all_data)\n",
    "    all_targets = copy.deepcopy(all_targets)\n",
    "    feature_len = len(all_data[0][0][0])\n",
    "    max_interval1 = max([len(data[0]) for data in all_data])\n",
    "    max_interval3 = max([len(data[2]) for data in all_data])\n",
    "    all_data = UndoFinalization(all_data)\n",
    "    for i in range(len(all_data)):\n",
    "        l = len(all_data[i][0])\n",
    "        if l < max_interval1:\n",
    "            all_data[i][0] = np.vstack((np.zeros((max_interval1 - l, feature_len)), all_data[i][0]))\n",
    "            all_targets[i][0] = np.hstack((np.zeros(max_interval1 - l), all_targets[i][0]))\n",
    "        l = len(all_data[i][2])\n",
    "        if l < max_interval3:\n",
    "            all_data[i][2] = np.vstack((all_data[i][2], np.zeros((max_interval3 - l, feature_len))))\n",
    "            all_targets[i][2] = np.hstack((all_targets[i][2], np.zeros(max_interval3 - l)))\n",
    "    data, targets = MergeIntervals(all_data, all_targets)\n",
    "    return data, targets"
   ]
  },
  {
   "cell_type": "code",
   "execution_count": 16,
   "metadata": {},
   "outputs": [],
   "source": [
    "all_data, all_targets = AggregateAllData([gohawks_data, gopatriots_data, nfl_data, patriots_data, sb49_data, superbowl_data],\n",
    "                                          [gohawks_targets, gopatriots_targets, nfl_targets, patriots_targets, sb49_targets, superbowl_targets])"
   ]
  },
  {
   "cell_type": "code",
   "execution_count": 65,
   "metadata": {},
   "outputs": [
    {
     "name": "stdout",
     "output_type": "stream",
     "text": [
      "Results for aggregated data\n",
      "(981, 16)\n",
      "(981,)\n",
      "mse: 32124023.07625771\n",
      "r2: 0.9331432609094434\n",
      "tvalues: [ -0.42681992  -0.57728923   8.00861564   7.17625029  -7.50807353\n",
      "  -0.57082451  17.55554801  -0.63357336  -2.41893453   0.81417597\n",
      "  13.07132211   2.97241103  -3.34124832 -38.5686349   -0.96021531\n",
      "  -0.48449408   0.93805257]\n",
      "pvalues: [6.69605798e-001 5.63878880e-001 3.32743548e-015 1.42852599e-012\n",
      " 1.36443430e-013 5.68251640e-001 4.42729374e-060 5.26509580e-001\n",
      " 1.57503364e-002 4.15745216e-001 4.58655092e-036 3.02815235e-003\n",
      " 8.66055558e-004 1.36005906e-197 3.37187636e-001 6.28145326e-001\n",
      " 3.48452353e-001]\n"
     ]
    }
   ],
   "source": [
    "print(\"Results for aggregated data\")\n",
    "print(all_data.shape)\n",
    "print(all_targets.shape)\n",
    "ScoreOLS(all_data, all_targets)"
   ]
  },
  {
   "cell_type": "code",
   "execution_count": null,
   "metadata": {},
   "outputs": [],
   "source": [
    "all_datap, all_targetsp = MergePieceWiseData([gohawks_datap, gopatriots_datap, nfl_datap, patriots_datap, sb49_datap, superbowl_datap],\n",
    "                                          [gohawks_targetsp, gopatriots_targetsp, nfl_targetsp, patriots_targetsp, sb49_targetsp, superbowl_targetsp])"
   ]
  },
  {
   "cell_type": "code",
   "execution_count": 67,
   "metadata": {},
   "outputs": [
    {
     "name": "stdout",
     "output_type": "stream",
     "text": [
      "Results for aggregated piecewise data\n",
      "Interval 1 data shape (833, 16)\n",
      "Target shape: (833,)\n",
      "mse: 1875421.031074804\n",
      "r2: 0.5771227684213787\n",
      "tvalues: [ 1.04993472e-01  8.07018710e-03  3.44456925e+00 -1.34931324e+00\n",
      " -1.14942323e+00 -1.56561209e+00  2.93157435e+00 -9.87780919e-01\n",
      " -6.57325334e+00  9.92080954e+00 -6.48657407e-01 -2.52660593e+00\n",
      "  3.60351360e+00  1.95014365e+00 -5.81000796e-01 -8.93439951e-02\n",
      "  1.32854579e+00]\n",
      "pvalues: [9.16406791e-01 9.93562965e-01 6.01149207e-04 1.77610630e-01\n",
      " 2.50718287e-01 1.17827155e-01 3.46671683e-03 3.23552753e-01\n",
      " 8.77542413e-11 5.58917876e-22 5.16742341e-01 1.17050699e-02\n",
      " 3.32966526e-04 5.15010915e-02 5.61400349e-01 9.28830454e-01\n",
      " 1.84369279e-01]\n",
      "\n",
      "Interval 2 data shape (143, 16)\n",
      "Target shape: (143,)\n",
      "mse: 11142088.38528958\n",
      "r2: 0.9015660385837904\n",
      "tvalues: [ 0.74183855  5.72365535 -2.34264689 -1.17430923  0.93602887  2.98819416\n",
      "  2.7604072  -2.69586795  1.78683562 -0.77304156 -5.58894308 -0.32328833\n",
      "  0.74463752  0.30856891  0.87240165  1.14319853 -0.66916653]\n",
      "pvalues: [4.59565716e-01 7.21113597e-08 2.07146602e-02 2.42485874e-01\n",
      " 3.51048885e-01 3.37433363e-03 6.63514142e-03 7.97991087e-03\n",
      " 7.63685445e-02 4.40945573e-01 1.34771953e-07 7.47012818e-01\n",
      " 4.57877471e-01 7.58159058e-01 3.84648730e-01 2.55123616e-01\n",
      " 5.04613526e-01]\n",
      "\n",
      "Interval 3 data shape (135, 16)\n",
      "Target shape: (135,)\n",
      "mse: 353013.93384225084\n",
      "r2: 0.8867875010670926\n",
      "tvalues: [-0.5342052   2.04344971  0.74399045  3.09836517 -0.52860997 -2.24854995\n",
      "  0.62405729 -0.14725261  4.1361812  -1.33095883 -2.66313965 -0.02024556\n",
      "  2.57356776 -1.59266621  0.76457002  1.28667181 -1.10239986]\n",
      "pvalues: [5.94204593e-01 4.32347022e-02 4.58361202e-01 2.43265718e-03\n",
      " 5.98068892e-01 2.63974026e-02 5.33794577e-01 8.83183943e-01\n",
      " 6.64545968e-05 1.85768535e-01 8.82271540e-03 9.83881675e-01\n",
      " 1.13037769e-02 1.13910404e-01 4.46053922e-01 2.00727239e-01\n",
      " 2.72531227e-01]\n",
      "\n"
     ]
    }
   ],
   "source": [
    "print(\"Results for aggregated piecewise data\")\n",
    "for i in range(3):\n",
    "    print(\"Interval {} data shape {}\".format(i+1, all_datap[i].shape))\n",
    "    print(\"Target shape:\", all_targetsp[i].shape)\n",
    "    ScoreOLS(all_datap[i], all_targetsp[i])\n",
    "    print()"
   ]
  },
  {
   "cell_type": "code",
   "execution_count": 68,
   "metadata": {},
   "outputs": [],
   "source": [
    "from sklearn.model_selection import GridSearchCV, cross_val_score\n",
    "from sklearn.ensemble import RandomForestRegressor, GradientBoostingRegressor\n",
    "from sklearn.linear_model import LinearRegression\n",
    "\n",
    "param_grid = {\n",
    "'max_depth': [10, 30, 50, 70, 100, 200, None],\n",
    "'max_features': ['auto', 'sqrt'],\n",
    "'min_samples_leaf': [1, 2, 3, 4],\n",
    "'min_samples_split': [2, 5, 10],\n",
    "'n_estimators': [200, 400, 600, 800, 1000, 1200, 1400, 1600, 1800, 2000]\n",
    "}"
   ]
  },
  {
   "cell_type": "code",
   "execution_count": 69,
   "metadata": {},
   "outputs": [
    {
     "name": "stdout",
     "output_type": "stream",
     "text": [
      "Best params:\n",
      "{'max_depth': 50, 'max_features': 'auto', 'min_samples_leaf': 1, 'min_samples_split': 5, 'n_estimators': 2000}\n",
      "Best score:\n",
      "-427751270.10510504\n",
      "\n"
     ]
    }
   ],
   "source": [
    "clf = GridSearchCV(GradientBoostingRegressor(), param_grid, cv=5, scoring=\"neg_mean_squared_error\", n_jobs=-1)\n",
    "search = clf.fit(all_data, all_targets)\n",
    "print(\"Best params:\")\n",
    "print(clf.best_params_)\n",
    "print(\"Best score:\")\n",
    "print(clf.best_score_)\n",
    "print()\n",
    "# means = clf.cv_results_['mean_test_score']\n",
    "# stds = clf.cv_results_['std_test_score']\n",
    "# for mean, std, params in zip(means, stds, clf.cv_results_['params']):\n",
    "#     print(\"%0.3f (+/-%0.03f) for %r\" % (mean, std * 2, params))"
   ]
  },
  {
   "cell_type": "code",
   "execution_count": 71,
   "metadata": {},
   "outputs": [
    {
     "name": "stdout",
     "output_type": "stream",
     "text": [
      "Best params:\n",
      "{'max_depth': 100, 'max_features': 'auto', 'min_samples_leaf': 2, 'min_samples_split': 10, 'n_estimators': 200}\n",
      "Best score:\n",
      "-425552110.8665885\n",
      "\n"
     ]
    }
   ],
   "source": [
    "clf = GridSearchCV(RandomForestRegressor(), param_grid, cv=5, scoring=\"neg_mean_squared_error\", n_jobs=-1)\n",
    "search = clf.fit(all_data, all_targets)\n",
    "print(\"Best params:\")\n",
    "print(clf.best_params_)\n",
    "print(\"Best score:\")\n",
    "print(clf.best_score_)\n",
    "print()"
   ]
  },
  {
   "cell_type": "code",
   "execution_count": 72,
   "metadata": {},
   "outputs": [
    {
     "name": "stdout",
     "output_type": "stream",
     "text": [
      "OLS Score: -603958415.8113991\n"
     ]
    }
   ],
   "source": [
    "val_res = cross_val_score(LinearRegression(), all_data, all_targets, cv=5, scoring=\"neg_mean_squared_error\")\n",
    "print(\"OLS Score:\", np.mean(val_res))"
   ]
  },
  {
   "cell_type": "code",
   "execution_count": 73,
   "metadata": {},
   "outputs": [
    {
     "name": "stdout",
     "output_type": "stream",
     "text": [
      "Interval 1\n",
      "Best params:\n",
      "{'max_depth': 100, 'max_features': 'sqrt', 'min_samples_leaf': 2, 'min_samples_split': 5, 'n_estimators': 1600}\n",
      "Best score:\n",
      "-1900778.5089743845\n",
      "\n",
      "Interval 2\n",
      "Best params:\n",
      "{'max_depth': 70, 'max_features': 'sqrt', 'min_samples_leaf': 4, 'min_samples_split': 2, 'n_estimators': 1400}\n",
      "Best score:\n",
      "-39566093.124413475\n",
      "\n",
      "Interval 3\n",
      "Best params:\n",
      "{'max_depth': 200, 'max_features': 'sqrt', 'min_samples_leaf': 4, 'min_samples_split': 10, 'n_estimators': 200}\n",
      "Best score:\n",
      "-1179171.6990950862\n",
      "\n"
     ]
    }
   ],
   "source": [
    "for i in range(3):\n",
    "    print(\"Interval\", i+1)\n",
    "    clf = GridSearchCV(GradientBoostingRegressor(), param_grid, cv=5, scoring=\"neg_mean_squared_error\", n_jobs=-1)\n",
    "    search = clf.fit(all_datap[i], all_targetsp[i])\n",
    "    print(\"Best params:\")\n",
    "    print(clf.best_params_)\n",
    "    print(\"Best score:\")\n",
    "    print(clf.best_score_)\n",
    "    print()"
   ]
  },
  {
   "cell_type": "code",
   "execution_count": 74,
   "metadata": {},
   "outputs": [
    {
     "name": "stdout",
     "output_type": "stream",
     "text": [
      "mse: 1337305166.250461\n",
      "r2: -1.7832087647371977\n"
     ]
    },
    {
     "data": {
      "text/plain": [
       "MLPRegressor(activation='relu', alpha=0.0001, batch_size=800, beta_1=0.9,\n",
       "             beta_2=0.999, early_stopping=False, epsilon=1e-08,\n",
       "             hidden_layer_sizes=(100,), learning_rate='adaptive',\n",
       "             learning_rate_init=0.001, max_fun=15000,\n",
       "             max_iter=100000000000000000, momentum=0.9, n_iter_no_change=10,\n",
       "             nesterovs_momentum=True, power_t=0.5, random_state=None,\n",
       "             shuffle=True, solver='adam', tol=1e-10, validation_fraction=0.1,\n",
       "             verbose=False, warm_start=False)"
      ]
     },
     "execution_count": 74,
     "metadata": {},
     "output_type": "execute_result"
    }
   ],
   "source": [
    "# NN test run\n",
    "def Score_nn(data, targets, sizez=(100, ), verbose=True):\n",
    "    model = MLPRegressor(hidden_layer_sizes=sizez, max_iter=100000000000000000, tol=0.0000000001, batch_size = 800, learning_rate = 'adaptive')\n",
    "    results = model.fit(data,targets)\n",
    "    \n",
    "    preds = results.predict(data)\n",
    "    mse = mean_squared_error(targets, preds)\n",
    "    r2 = r2_score(targets, preds)\n",
    "\n",
    "    if verbose:\n",
    "        print(\"mse:\", mse)\n",
    "        print(\"r2:\", r2)\n",
    "        return results\n",
    "                         \n",
    "\n",
    "                         \n",
    "all_data, all_targets = AggregateAllData([gohawks_data, gopatriots_data, nfl_data, patriots_data, sb49_data, superbowl_data],\n",
    "                                          [gohawks_targets, gopatriots_targets, nfl_targets, patriots_targets, sb49_targets, superbowl_targets])\n",
    "\n",
    "\n",
    "Score_nn(all_data, all_targets)"
   ]
  },
  {
   "cell_type": "code",
   "execution_count": 75,
   "metadata": {},
   "outputs": [
    {
     "name": "stdout",
     "output_type": "stream",
     "text": [
      "Network size is  (100, 100)\n",
      "mse: 121772266604.70479\n",
      "r2: -252.43328379294837\n",
      "Network size is  (100, 100, 100)\n",
      "mse: 1288145353.2654202\n",
      "r2: -1.6808970218188413\n",
      "Network size is  (100, 100, 100, 100)\n",
      "mse: 311707081.43215585\n",
      "r2: 0.3512730654402133\n",
      "Network size is  (500, 500)\n",
      "mse: 2889153307030.047\n",
      "r2: -6011.925852474784\n",
      "Network size is  (500, 500, 500)\n",
      "mse: 1193888631.70521\n",
      "r2: -1.4847292807509525\n",
      "Network size is  (500, 500, 500, 500)\n",
      "mse: 16379441707.539354\n",
      "r2: -33.08900741013632\n",
      "Network size is  (500, 400, 200, 100, 50, 16)\n",
      "mse: 155473936282.5052\n",
      "r2: -322.5734319062808\n"
     ]
    }
   ],
   "source": [
    "# problem 11\n",
    "\n",
    "test_sizes = [(100, 100), (100, 100, 100), (100, 100, 100, 100), (500, 500), (500, 500, 500), (500, 500, 500, 500), (500, 400, 200, 100, 50, 16)]\n",
    "\n",
    "\n",
    "for net_dim in test_sizes:\n",
    "    print(\"Network size is \", net_dim)\n",
    "    Score_nn(all_data, all_targets, sizez=net_dim)"
   ]
  },
  {
   "cell_type": "code",
   "execution_count": 76,
   "metadata": {},
   "outputs": [
    {
     "name": "stdout",
     "output_type": "stream",
     "text": [
      "mse: 106341690407.33281\n",
      "r2: -220.31906184771773\n"
     ]
    },
    {
     "data": {
      "text/plain": [
       "MLPRegressor(activation='relu', alpha=0.0001, batch_size=800, beta_1=0.9,\n",
       "             beta_2=0.999, early_stopping=False, epsilon=1e-08,\n",
       "             hidden_layer_sizes=(500, 300, 500), learning_rate='adaptive',\n",
       "             learning_rate_init=0.001, max_fun=15000,\n",
       "             max_iter=100000000000000000, momentum=0.9, n_iter_no_change=10,\n",
       "             nesterovs_momentum=True, power_t=0.5, random_state=None,\n",
       "             shuffle=True, solver='adam', tol=1e-10, validation_fraction=0.1,\n",
       "             verbose=False, warm_start=False)"
      ]
     },
     "execution_count": 76,
     "metadata": {},
     "output_type": "execute_result"
    }
   ],
   "source": [
    "Score_nn(all_data, all_targets, sizez=(500, 300, 500))"
   ]
  },
  {
   "cell_type": "code",
   "execution_count": 77,
   "metadata": {},
   "outputs": [
    {
     "name": "stdout",
     "output_type": "stream",
     "text": [
      "1670720551557.0366\n"
     ]
    }
   ],
   "source": [
    "model = MLPRegressor(hidden_layer_sizes=(500, 500, 500), max_iter=1000000, batch_size = 800)\n",
    "results = model.fit(all_data,all_targets)\n",
    "    \n",
    "preds = results.predict(all_data)\n",
    "mse = mean_squared_error(all_targets, preds)\n",
    "r2 = r2_score(all_targets, preds)\n",
    "print(mse)"
   ]
  },
  {
   "cell_type": "code",
   "execution_count": 78,
   "metadata": {},
   "outputs": [
    {
     "name": "stdout",
     "output_type": "stream",
     "text": [
      "mse: 96319890.28257722\n",
      "r2: 0.7995383779121763\n"
     ]
    },
    {
     "data": {
      "text/plain": [
       "MLPRegressor(activation='relu', alpha=0.0001, batch_size=800, beta_1=0.9,\n",
       "             beta_2=0.999, early_stopping=False, epsilon=1e-08,\n",
       "             hidden_layer_sizes=(500, 300, 500), learning_rate='adaptive',\n",
       "             learning_rate_init=0.001, max_fun=15000,\n",
       "             max_iter=100000000000000000, momentum=0.9, n_iter_no_change=10,\n",
       "             nesterovs_momentum=True, power_t=0.5, random_state=None,\n",
       "             shuffle=True, solver='adam', tol=1e-10, validation_fraction=0.1,\n",
       "             verbose=False, warm_start=False)"
      ]
     },
     "execution_count": 78,
     "metadata": {},
     "output_type": "execute_result"
    }
   ],
   "source": [
    "# question 12\n",
    "\n",
    "scaler = StandardScaler()\n",
    "scaler.fit(all_data)\n",
    "scaled_all_data = scaler.transform(all_data)\n",
    "\n",
    "Score_nn(scaled_all_data, all_targets, sizez=(500, 300, 500))\n"
   ]
  },
  {
   "cell_type": "code",
   "execution_count": 81,
   "metadata": {
    "scrolled": true
   },
   "outputs": [
    {
     "name": "stdout",
     "output_type": "stream",
     "text": [
      "For period 1\n",
      "Best params:\n",
      "{'hidden_layer_sizes': (500, 500, 500, 500)}\n",
      "Best score:\n",
      "-2784715.162801229\n",
      "For period 2\n",
      "Best params:\n",
      "{'hidden_layer_sizes': (500, 500)}\n",
      "Best score:\n",
      "-43891170.888388224\n",
      "For period 3\n",
      "Best params:\n",
      "{'hidden_layer_sizes': (500, 500, 500, 500)}\n",
      "Best score:\n",
      "-1324834.7824790236\n"
     ]
    }
   ],
   "source": [
    "# question 13\n",
    "\n",
    "import warnings\n",
    "warnings.simplefilter('ignore')\n",
    "\n",
    "from sklearn.model_selection import GridSearchCV, cross_val_score\n",
    "\n",
    "all_datap, all_targetsp = MergePieceWiseData([gohawks_datap, gopatriots_datap, nfl_datap, patriots_datap, sb49_datap, superbowl_datap],\n",
    "                                          [gohawks_targetsp, gopatriots_targetsp, nfl_targetsp, patriots_targetsp, sb49_targetsp, superbowl_targetsp])\n",
    "\n",
    "\n",
    "\n",
    "\n",
    "\n",
    "nn_param_grid = {'hidden_layer_sizes': test_sizes\n",
    "}\n",
    "\n",
    "for period in np.arange(3):\n",
    "    print('For period' , period+1)\n",
    "    \n",
    "    scaler = StandardScaler()\n",
    "    scaler.fit(all_datap[period])\n",
    "    scaled_all_data_p = scaler.transform(all_datap[period])\n",
    "    \n",
    "    clf = GridSearchCV(MLPRegressor( max_iter=1000), nn_param_grid, cv=5, scoring=\"neg_mean_squared_error\")\n",
    "    search = clf.fit(scaled_all_data_p, all_targetsp[period])\n",
    "    print(\"Best params:\")\n",
    "    print(clf.best_params_)\n",
    "    print(\"Best score:\")\n",
    "    print(clf.best_score_)\n",
    "    \n",
    "\n",
    "warnings.simplefilter('default')\n"
   ]
  },
  {
   "cell_type": "code",
   "execution_count": 26,
   "metadata": {},
   "outputs": [
    {
     "name": "stdout",
     "output_type": "stream",
     "text": [
      "(66,)\n",
      "(66, 5)\n"
     ]
    }
   ],
   "source": [
    "#question 14\n",
    "from os import listdir\n",
    "\n",
    "def GetDataFeatures_test(filepath, hashtag=\"\"):\n",
    "    if 'period2' in filepath:\n",
    "        td = datetime.timedelta(minutes=5)\n",
    "    else:\n",
    "        td = datetime.timedelta(hours=1)\n",
    "    data = []\n",
    "    boundarys = []\n",
    "    feature_len = basic_feature_len if hashtag == \"\" else total_feature_len\n",
    "    history = {}\n",
    "    history['hashtags'] = [hashtag]\n",
    "    cur_feature = np.zeros(feature_len)\n",
    "    first_tweet = True\n",
    "    with open(filepath, encoding=\"utf8\") as fp:\n",
    "        for line in fp:\n",
    "            tweet = json.loads(line)\n",
    "            cur_time = tweet['firstpost_date']\n",
    "            cur_datetime = datetime.datetime.fromtimestamp(cur_time, PST_TZ)\n",
    "            if first_tweet:\n",
    "                end_time = cur_datetime.replace(second=0, microsecond=0, minute=0) + td\n",
    "                cur_feature, history = UpdateFeature(cur_feature, tweet, cur_datetime, history)\n",
    "                first_tweet = False\n",
    "            else:\n",
    "                if cur_datetime < end_time:\n",
    "                    cur_feature, history = UpdateFeature(cur_feature, tweet, cur_datetime, history)\n",
    "                else:\n",
    "                    while cur_datetime >= end_time:\n",
    "                        end_time += td\n",
    "                        data.append(FinalizeFeature(cur_feature))\n",
    "                        cur_feature = np.zeros(feature_len)\n",
    "                        history = {}\n",
    "                        history['hashtags'] = [hashtag]\n",
    "                    cur_feature, history = UpdateFeature(cur_feature, tweet, cur_datetime, history)\n",
    "    data.append(cur_feature)\n",
    "    targets = GetDataTargets(data)\n",
    "    data = np.array(data)\n",
    "    targets = np.array(targets)\n",
    "    return data, targets\n",
    "\n",
    "test_feat=np.array([])\n",
    "test_target=np.array([])\n",
    "\n",
    "names = listdir('tweet_test')\n",
    "for name  in names:\n",
    "    a, b = GetDataFeatures_test('tweet_test/'+name)\n",
    "    test_feat=np.append(test_feat, a)\n",
    "    test_target=np.append(test_target, b)\n",
    "\n",
    "num_feat=a.shape[1]    \n",
    "    \n",
    "test_feat = test_feat.reshape(-1,num_feat)\n",
    "print(test_target.shape)\n",
    "print(test_feat.shape)\n",
    "\n"
   ]
  },
  {
   "cell_type": "code",
   "execution_count": 28,
   "metadata": {},
   "outputs": [
    {
     "name": "stdout",
     "output_type": "stream",
     "text": [
      "mse:  4210196.386348666\n",
      "r2:  -0.48098768783016865\n",
      "predictions by window:\n",
      "[1.18200000e+01 4.10430000e+01 3.77280000e+01 1.20460000e+01\n",
      " 7.88870000e+01 9.16838000e+02 1.18485000e+02 2.41846000e+02\n",
      " 1.90874000e+02 1.14326000e+02 1.17415000e+02 7.78683700e+03\n",
      " 2.21590000e+01 3.03780000e+01 4.22630000e+01 3.02140000e+01\n",
      " 6.31720000e+01 3.48140000e+02 9.28840000e+01 1.10363000e+02\n",
      " 1.31901000e+02 1.12148000e+02 1.94352000e+02 2.29277600e+03\n",
      " 1.26265670e+00 3.30390150e-01 3.30390150e-01 3.30390150e-01\n",
      " 3.30390150e-01 3.30390150e-01 2.22230000e+01 5.22900000e+00\n",
      " 3.59200000e+00 2.20650000e+01 8.85700000e+00 4.26703100e+03\n",
      " 1.02645000e+02 8.99310000e+01 4.35340000e+01 7.99090000e+01\n",
      " 2.27910000e+01 2.94250000e+02 1.04718000e+02 8.44890000e+01\n",
      " 3.22850000e+01 2.90620000e+01 4.80620000e+01 7.06824000e+02\n",
      " 8.39000000e-01 3.30390150e-01 3.30390150e-01 3.30390150e-01\n",
      " 3.30390150e-01 3.30390150e-01 1.22400000e+00 4.55000000e-01\n",
      " 1.02834252e+00 1.85300000e+00 1.00000000e+00 2.66753000e+02\n",
      " 9.90790000e+01 9.47610000e+01 5.04770000e+01 1.02645000e+02\n",
      " 8.99310000e+01 3.70073000e+02]\n"
     ]
    }
   ],
   "source": [
    "#question 14\n",
    "\n",
    "from sklearn.ensemble import RandomForestRegressor\n",
    "\n",
    "\n",
    "reg=RandomForestRegressor(n_estimators=1000,  max_depth=50)\n",
    "reg.fit(all_data[:,:5], all_targets)\n",
    "preds = reg.predict(test_feat)\n",
    "mse = mean_squared_error(test_target, preds)\n",
    "r2 = reg.score(test_feat, test_target)\n",
    "\n",
    "print('mse: ', mse)\n",
    "print('r2: ', r2)\n",
    "print('predictions by window:')\n",
    "print(preds)"
   ]
  },
  {
   "cell_type": "code",
   "execution_count": 2,
   "metadata": {},
   "outputs": [],
   "source": [
    "#question 15\n",
    "\n",
    "\n",
    "filepath = SUPERBOWL\n",
    "\n",
    "text_data=[]\n",
    "locations = [] # 0 = MA, 1 = WA\n",
    "\n",
    "with open(filepath, encoding=\"utf8\") as fp:\n",
    "    for line in fp:\n",
    "        tweet = json.loads(line)\n",
    "        location = tweet['tweet']['user']['location']\n",
    "        \n",
    "        mass_tags = ['MA', 'Mass', 'Boston', 'New England']\n",
    "        wash_tags = ['WA', 'Wash', 'Seattle']\n",
    "        if any(tag in location for tag in mass_tags):\n",
    "            text_data.append(tweet['tweet']['text'])\n",
    "            locations.append(0)\n",
    "        elif any(tag in location for tag in wash_tags):\n",
    "            text_data.append(tweet['tweet']['text'])\n",
    "            locations.append(1)"
   ]
  },
  {
   "cell_type": "code",
   "execution_count": 3,
   "metadata": {},
   "outputs": [
    {
     "name": "stdout",
     "output_type": "stream",
     "text": [
      "Number of Tweets: 49893\n",
      "('From Massachussettes', 22729)\n",
      "('From Washington not DC', 27164)\n"
     ]
    }
   ],
   "source": [
    "print('Number of Tweets:', len(text_data))\n",
    "print(('From Massachussettes', np.sum(np.array(locations)==0)))\n",
    "print(('From Washington not DC', np.sum(np.array(locations)==1)))"
   ]
  },
  {
   "cell_type": "code",
   "execution_count": 2,
   "metadata": {},
   "outputs": [],
   "source": [
    "from sklearn.feature_extraction.text import CountVectorizer\n",
    "from sklearn.feature_extraction import text\n",
    "from sklearn.feature_extraction.text import TfidfTransformer\n",
    "from sklearn.decomposition import TruncatedSVD\n",
    "import nltk\n",
    "from nltk import pos_tag\n",
    "from nltk.corpus import stopwords\n",
    "from string import punctuation\n",
    "\n",
    "def penn2morphy(penntag):\n",
    "    \"\"\" Converts Penn Treebank tags to WordNet. \"\"\"\n",
    "    morphy_tag = {'NN':'n', 'JJ':'a',\n",
    "                  'VB':'v', 'RB':'r'}\n",
    "    try:\n",
    "        return morphy_tag[penntag[:2]]\n",
    "    except:\n",
    "        return 'n'\n",
    "\n",
    "def lemmatize_sent(list_word):\n",
    "    # Text input is string, returns array of lowercased strings(words).\n",
    "    wnl = nltk.wordnet.WordNetLemmatizer()\n",
    "    return [wnl.lemmatize(word.lower(), pos=penn2morphy(tag)) \n",
    "            for word, tag in pos_tag(list_word)]\n",
    "\n",
    "def stem_rmv_punc(doc):\n",
    "    analyzer = CountVectorizer().build_analyzer()\n",
    "    stop_words_skt = text.ENGLISH_STOP_WORDS\n",
    "    stop_words_en = stopwords.words('english')\n",
    "    combined_stopwords = set.union(set(stop_words_en),set(punctuation),set(stop_words_skt))\n",
    "    return (word for word in lemmatize_sent(analyzer(doc)) if word not in combined_stopwords and not word.isdigit())\n",
    "\n",
    "\n",
    "count_vec = CountVectorizer(min_df=3, analyzer=stem_rmv_punc, stop_words='english')\n",
    "tfidf_transformer = TfidfTransformer()\n",
    "svd = TruncatedSVD(n_components=50, random_state=0)\n",
    "    \n",
    "    \n",
    "    \n",
    "X = count_vec.fit_transform(text_data)\n",
    "X = tfidf_transformer.fit_transform(X)\n",
    "X = svd.fit_transform(X)\n",
    "\n",
    "y = np.array(locations)\n"
   ]
  },
  {
   "cell_type": "code",
   "execution_count": 9,
   "metadata": {},
   "outputs": [
    {
     "name": "stdout",
     "output_type": "stream",
     "text": [
      "Classifier:  Support Vector Classifier\n"
     ]
    },
    {
     "data": {
      "image/png": "[encoded data removed]",
      "text/plain": [
       "<Figure size 432x288 with 2 Axes>"
      ]
     },
     "metadata": {
      "needs_background": "light"
     },
     "output_type": "display_data"
    },
    {
     "data": {
      "image/png": "[encoded data removed]",
      "text/plain": [
       "<Figure size 432x288 with 1 Axes>"
      ]
     },
     "metadata": {
      "needs_background": "light"
     },
     "output_type": "display_data"
    },
    {
     "name": "stdout",
     "output_type": "stream",
     "text": [
      "Classifier:  Logistic Regression\n"
     ]
    },
    {
     "data": {
      "image/png": "[encoded data removed]",
      "text/plain": [
       "<Figure size 432x288 with 2 Axes>"
      ]
     },
     "metadata": {
      "needs_background": "light"
     },
     "output_type": "display_data"
    },
    {
     "data": {
      "image/png": "[encoded data removed]",
      "text/plain": [
       "<Figure size 432x288 with 1 Axes>"
      ]
     },
     "metadata": {
      "needs_background": "light"
     },
     "output_type": "display_data"
    },
    {
     "name": "stdout",
     "output_type": "stream",
     "text": [
      "Classifier:  Random Forrest\n"
     ]
    },
    {
     "data": {
      "image/png": "[encoded data removed]",
      "text/plain": [
       "<Figure size 432x288 with 2 Axes>"
      ]
     },
     "metadata": {
      "needs_background": "light"
     },
     "output_type": "display_data"
    },
    {
     "data": {
      "image/png": "[encoded data removed]",
      "text/plain": [
       "<Figure size 432x288 with 1 Axes>"
      ]
     },
     "metadata": {
      "needs_background": "light"
     },
     "output_type": "display_data"
    }
   ],
   "source": [
    "from sklearn.metrics import accuracy_score\n",
    "from sklearn.metrics import precision_score\n",
    "from sklearn.metrics import recall_score\n",
    "from sklearn.model_selection import cross_val_score\n",
    "from sklearn.model_selection import cross_validate\n",
    "from sklearn.svm import SVC\n",
    "from sklearn.ensemble import RandomForestClassifier\n",
    "from sklearn.linear_model import LogisticRegression\n",
    "\n",
    "from sklearn.metrics import plot_roc_curve\n",
    "from sklearn.metrics import plot_confusion_matrix\n",
    "\n",
    "svc = SVC(kernel='linear', C=1).fit(X,y)\n",
    "lr = LogisticRegression(penalty='l1', C=10, solver='liblinear').fit(X,y)\n",
    "rf= RandomForestClassifier(n_estimators=500, max_depth =40).fit(X,y)\n",
    "scoring = ['accuracy','precision_macro', 'recall_macro']\n",
    "\n",
    "def get_scores_and_graphs(clf, X=X, y=y):\n",
    "    plot_confusion_matrix(clf, X, y, display_labels=['MA','WA'], cmap=plt.cm.Blues, normalize='true', xticks_rotation='vertical', values_format='.1g')\n",
    "    scores = cross_validate(clf, X, y, scoring=scoring)\n",
    "    plot_roc_curve(clf, X, y)\n",
    "    plt.title(\" ROC Curve\")\n",
    "    plt.show()\n",
    "    return scores\n",
    "\n",
    "names = ['Support Vector Classifier', 'Logistic Regression','Random Forrest']\n",
    "\n",
    "clfs =[svc , lr, rf]\n",
    "\n",
    "all_scores=[]\n",
    "\n",
    "for i, clf in enumerate(clfs):\n",
    "    print('Classifier: ', names[i])\n",
    "    get_score = get_scores_and_graphs(clf=clf)\n",
    "    all_scores.append(get_score)"
   ]
  },
  {
   "cell_type": "code",
   "execution_count": 15,
   "metadata": {},
   "outputs": [
    {
     "name": "stdout",
     "output_type": "stream",
     "text": [
      "For  Support Vector Classifier\n",
      "Accuracy:  0.6885324143620022\n",
      "Precision:  0.7116378840625159\n",
      "Recall:  0.6718006052899714\n",
      "For  Logistic Regression\n",
      "Accuracy:  0.6768068666789957\n",
      "Precision:  0.6868146149608958\n",
      "Recall:  0.6674465500380844\n",
      "For  Random Forrest\n",
      "Accuracy:  0.6744617454923529\n",
      "Precision:  0.6802735536219195\n",
      "Recall:  0.6700433325714362\n"
     ]
    }
   ],
   "source": [
    "for i, score in enumerate(all_scores):\n",
    "    print('For ', names[i])\n",
    "    print('Accuracy: ', np.mean(score['test_accuracy']) )\n",
    "    print('Precision: ', np.mean(score['test_precision_macro']))\n",
    "    print('Recall: ', np.mean(score['test_recall_macro']))\n"
   ]
  },
  {
   "cell_type": "code",
   "execution_count": 20,
   "metadata": {},
   "outputs": [
    {
     "name": "stdout",
     "output_type": "stream",
     "text": [
      "Classifier:  Support Vector Classifier\n"
     ]
    },
    {
     "data": {
      "image/png": "[encoded data removed]",
      "text/plain": [
       "<Figure size 432x288 with 2 Axes>"
      ]
     },
     "metadata": {
      "needs_background": "light"
     },
     "output_type": "display_data"
    },
    {
     "data": {
      "image/png": "[encoded data removed]",
      "text/plain": [
       "<Figure size 432x288 with 1 Axes>"
      ]
     },
     "metadata": {
      "needs_background": "light"
     },
     "output_type": "display_data"
    },
    {
     "name": "stdout",
     "output_type": "stream",
     "text": [
      "Accuracy: 0.705192833282721\n",
      "Precision: 0.6643906312028582\n",
      "Recall: 0.9302946081156198\n",
      "Classifier:  Logistic Regression\n"
     ]
    },
    {
     "data": {
      "image/png": "[encoded data removed]",
      "text/plain": [
       "<Figure size 432x288 with 2 Axes>"
      ]
     },
     "metadata": {
      "needs_background": "light"
     },
     "output_type": "display_data"
    },
    {
     "data": {
      "image/png": "[encoded data removed]",
      "text/plain": [
       "<Figure size 432x288 with 1 Axes>"
      ]
     },
     "metadata": {
      "needs_background": "light"
     },
     "output_type": "display_data"
    },
    {
     "name": "stdout",
     "output_type": "stream",
     "text": [
      "Accuracy: 0.7211053750379594\n",
      "Precision: 0.6902930244619241\n",
      "Recall: 0.8878265703168426\n",
      "Classifier:  Random Forrest\n"
     ]
    },
    {
     "data": {
      "image/png": "[encoded data removed]",
      "text/plain": [
       "<Figure size 432x288 with 2 Axes>"
      ]
     },
     "metadata": {
      "needs_background": "light"
     },
     "output_type": "display_data"
    },
    {
     "data": {
      "image/png": "[encoded data removed]",
      "text/plain": [
       "<Figure size 432x288 with 1 Axes>"
      ]
     },
     "metadata": {
      "needs_background": "light"
     },
     "output_type": "display_data"
    },
    {
     "name": "stdout",
     "output_type": "stream",
     "text": [
      "Accuracy: 0.7251746128150622\n",
      "Precision: 0.7300329353643474\n",
      "Recall: 0.7885491939966648\n"
     ]
    }
   ],
   "source": [
    "from sklearn.metrics import accuracy_score\n",
    "from sklearn.metrics import precision_score\n",
    "from sklearn.metrics import recall_score\n",
    "from sklearn.model_selection import cross_val_score\n",
    "from sklearn.model_selection import cross_validate\n",
    "from sklearn.svm import SVC\n",
    "from sklearn.ensemble import RandomForestClassifier\n",
    "from sklearn.linear_model import LogisticRegression\n",
    "\n",
    "from sklearn.metrics import plot_roc_curve\n",
    "from sklearn.metrics import plot_confusion_matrix\n",
    "from sklearn.model_selection import train_test_split\n",
    "\n",
    "X_train, X_test, y_train, y_test = train_test_split(X, y, test_size=0.33, random_state=42)\n",
    "\n",
    "svc = SVC(kernel='linear', C=1).fit(X_train,y_train)\n",
    "lr = LogisticRegression(penalty='l1', C=10, solver='liblinear').fit(X_train,y_train)\n",
    "rf= RandomForestClassifier(n_estimators=500, max_depth =40).fit(X_train,y_train)\n",
    "\n",
    "def get_scores_and_graphs_test(clf, X_train=X_train, y_train=y_train, X_test=X_test, y_test=y_test):\n",
    "    plot_confusion_matrix(clf, X_train, y_train, display_labels=['MA','WA'], cmap=plt.cm.Blues, normalize='true', xticks_rotation='vertical', values_format='.1g')\n",
    "    plot_roc_curve(clf, X_test, y_test)\n",
    "    plt.title(\" ROC Curve\")\n",
    "    plt.show()\n",
    "    preds = clf.predict(X_test)\n",
    "    print('Accuracy:', accuracy_score(y_test, preds))\n",
    "    print('Precision:', precision_score(y_test, preds))\n",
    "    print('Recall:', recall_score(y_test, preds))\n",
    "\n",
    "names = ['Support Vector Classifier', 'Logistic Regression','Random Forrest']\n",
    "\n",
    "clfs =[svc , lr, rf]\n",
    "\n",
    "all_scores=[]\n",
    "\n",
    "for i, clf in enumerate(clfs):\n",
    "    print('Classifier: ', names[i])\n",
    "    get_scores_and_graphs_test(clf=clf)"
   ]
  },
  {
   "cell_type": "code",
   "execution_count": 4,
   "metadata": {},
   "outputs": [
    {
     "name": "stdout",
     "output_type": "stream",
     "text": [
      "(1000,)\n"
     ]
    }
   ],
   "source": [
    "# Question 16\n",
    "# Predict the popularity of a tweet (Retweet count) from the text with random forrest for NFL tweets\n",
    "\n",
    "filepath = GOHAWKS\n",
    "\n",
    "text_data=[]\n",
    "retweets = [] # 0 = MA, 1 = WA\n",
    "\n",
    "with open(filepath, encoding=\"utf8\") as fp:\n",
    "    for line in fp:\n",
    "        tweet = json.loads(line)\n",
    "        retweet = tweet['tweet']['retweet_count']\n",
    "\n",
    "        text_data.append(tweet['tweet']['text'])\n",
    "        retweets.append(retweet)\n",
    "        \n",
    "\n",
    "\n",
    "count_vec = CountVectorizer(min_df=3, analyzer=stem_rmv_punc, stop_words='english')\n",
    "tfidf_transformer = TfidfTransformer()\n",
    "svd = TruncatedSVD(n_components=50, random_state=0)\n",
    "    \n",
    "    \n",
    "    \n",
    "X = count_vec.fit_transform(text_data[:1000])\n",
    "X = tfidf_transformer.fit_transform(X)\n",
    "X = svd.fit_transform(X)\n",
    "\n",
    "y = np.array(retweets[:1000])\n",
    "\n",
    "print(y.shape)\n",
    "\n",
    "X_train, X_test, y_train, y_test = train_test_split(X, y, test_size=0.2, random_state=42)"
   ]
  },
  {
   "cell_type": "code",
   "execution_count": 6,
   "metadata": {},
   "outputs": [
    {
     "name": "stdout",
     "output_type": "stream",
     "text": [
      "MSE in retweet predictions is: 0.13758194280356206\n"
     ]
    }
   ],
   "source": [
    "from sklearn.ensemble import RandomForestRegressor\n",
    "from sklearn.metrics import mean_squared_error\n",
    "\n",
    "rfr = RandomForestRegressor(n_estimators=1000, max_depth=20)\n",
    "rfr.fit(X_train,y_train)\n",
    "preds = rfr.predict(X_test)\n",
    "\n",
    "\n",
    "print('MSE in retweet predictions is:', mean_squared_error(y_test, preds))"
   ]
  },
  {
   "cell_type": "code",
   "execution_count": 3,
   "metadata": {},
   "outputs": [],
   "source": [
    "from sklearn.metrics import accuracy_score\n",
    "from sklearn.metrics import precision_score\n",
    "from sklearn.metrics import recall_score\n",
    "from sklearn.model_selection import cross_val_score\n",
    "from sklearn.model_selection import cross_validate\n",
    "from sklearn.svm import SVC\n",
    "from sklearn.ensemble import RandomForestClassifier\n",
    "from sklearn.linear_model import LogisticRegression\n",
    "\n",
    "from sklearn.metrics import plot_roc_curve\n",
    "from sklearn.metrics import plot_confusion_matrix\n",
    "from sklearn.model_selection import train_test_split"
   ]
  }
 ],
 "metadata": {
  "kernelspec": {
   "display_name": "Python 3",
   "language": "python",
   "name": "python3"
  },
  "language_info": {
   "codemirror_mode": {
    "name": "ipython",
    "version": 3
   },
   "file_extension": ".py",
   "mimetype": "text/x-python",
   "name": "python",
   "nbconvert_exporter": "python",
   "pygments_lexer": "ipython3",
   "version": "3.7.4"
  }
 },
 "nbformat": 4,
 "nbformat_minor": 2
}
