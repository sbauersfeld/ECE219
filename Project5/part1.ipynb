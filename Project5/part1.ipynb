{
 "cells": [
  {
   "cell_type": "code",
   "execution_count": 7,
   "metadata": {},
   "outputs": [],
   "source": [
    "import numpy as np\n",
    "import pytz\n",
    "import datetime\n",
    "import json\n",
    "import matplotlib.pyplot as plt\n",
    "import statsmodels.api as sm\n",
    "from sklearn.metrics import mean_squared_error, r2_score\n",
    "from sklearn.model_selection import train_test_split\n",
    "\n",
    "PST_TZ = pytz.timezone('America/Los_Angeles')\n",
    "\n",
    "GOHAWKS = \"tweet_data/tweets_#gohawks.txt\"\n",
    "GOPATRIOTS = \"tweet_data/tweets_#gopatriots.txt\"\n",
    "NFL = \"tweet_data/tweets_#nfl.txt\"\n",
    "PATRIOTS = \"tweet_data/tweets_#patriots.txt\"\n",
    "SB49 = \"tweet_data/tweets_#sb49.txt\"\n",
    "SUPERBOWL = \"tweet_data/tweets_#superbowl.txt\"\n",
    "ALL_FILES = [GOHAWKS, GOPATRIOTS, NFL, PATRIOTS, SB49, SUPERBOWL]\n",
    "ALL_HASHTAGS = [\"#gohawks\", \"#gopatriots\", \"#nfl\", \"#patriots\", \"#sb49\", \"#superbowl\"]"
   ]
  },
  {
   "cell_type": "code",
   "execution_count": 47,
   "metadata": {},
   "outputs": [],
   "source": [
    "# def GetJSONData(filepath):\n",
    "#     with open(filepath, encoding=\"utf8\") as fp:\n",
    "#         data = [json.loads(line) for line in fp]\n",
    "#     return data\n",
    "    \n",
    "def GetTweetStats(filepath):\n",
    "    followers = 0\n",
    "    retweets = 0\n",
    "    data_len = 0\n",
    "    count = 1\n",
    "    res = []\n",
    "    first_tweet = True\n",
    "    with open(filepath, encoding=\"utf8\") as fp:\n",
    "        for line in fp:\n",
    "            tweet = json.loads(line)\n",
    "            followers += tweet['author']['followers']\n",
    "            retweets += tweet['metrics']['citations']['total']\n",
    "            data_len += 1\n",
    "            if first_tweet:\n",
    "                first_time = tweet['firstpost_date']\n",
    "                first_datetime = datetime.datetime.fromtimestamp(first_time)\n",
    "                next_time = first_datetime + datetime.timedelta(hours=1)\n",
    "                first_tweet = False\n",
    "            else:\n",
    "                last_time = tweet['firstpost_date']\n",
    "                last_datetime = datetime.datetime.fromtimestamp(last_time)\n",
    "                if last_datetime > next_time:\n",
    "                    while last_datetime >= next_time:\n",
    "                        next_time = next_time + datetime.timedelta(hours=1)\n",
    "                        res.append(count)\n",
    "                        count = 0\n",
    "                    count = 1\n",
    "                else:\n",
    "                    count += 1\n",
    "    \n",
    "    res.append(count)\n",
    "    followers /= float(data_len)\n",
    "    retweets /= float(data_len)\n",
    "    \n",
    "    time_diff = last_datetime - first_datetime\n",
    "    num_hours = divmod(time_diff.total_seconds(), 3600)[0]\n",
    "    tweets_per_hour = float(data_len) / num_hours\n",
    "    \n",
    "    return tweets_per_hour, followers, retweets, res"
   ]
  },
  {
   "cell_type": "code",
   "execution_count": 48,
   "metadata": {},
   "outputs": [
    {
     "name": "stdout",
     "output_type": "stream",
     "text": [
      "Statisics for gohawks\n",
      "Average tweets per hour: 173.99382716049382\n",
      "Average followers per tweet: 2217.9237355281984\n",
      "Average retweets per tweet: 2.0132093991319877\n",
      "Statisics for gopatriots\n",
      "Average tweets per hour: 34.42313323572474\n",
      "Average followers per tweet: 1427.2526051635405\n",
      "Average retweets per tweet: 1.4081919101697078\n",
      "Statisics for nfl\n",
      "Average tweets per hour: 251.64362850971924\n",
      "Average followers per tweet: 4662.37544523693\n",
      "Average retweets per tweet: 1.5344602655543254\n",
      "Statisics for patriots\n",
      "Average tweets per hour: 449.61326530612246\n",
      "Average followers per tweet: 3280.4635616550277\n",
      "Average retweets per tweet: 1.7852871288476946\n",
      "Statisics for sb49\n",
      "Average tweets per hour: 1277.7474226804125\n",
      "Average followers per tweet: 10374.160292019487\n",
      "Average retweets per tweet: 2.52713444111402\n",
      "Statisics for superbowl\n",
      "Average tweets per hour: 1268.3521421107628\n",
      "Average followers per tweet: 8814.96799424623\n",
      "Average retweets per tweet: 2.3911895819207736\n"
     ]
    }
   ],
   "source": [
    "nfl_counts = []\n",
    "superbowl_counts = []\n",
    "for file, hashtag in zip(ALL_FILES, ALL_HASHTAGS):\n",
    "    stats = GetTweetStats(file)\n",
    "    print(\"Statisics for\", hashtag)\n",
    "    print(\"Average tweets per hour:\", stats[0])\n",
    "    print(\"Average followers per tweet:\", stats[1])\n",
    "    print(\"Average retweets per tweet:\", stats[2])\n",
    "    print()\n",
    "    if hashtag == \"nfl\":\n",
    "        nfl_counts = stats[3]\n",
    "    elif hashtag == \"superbowl\":\n",
    "        superbowl_counts = stats[3]"
   ]
  },
  {
   "cell_type": "code",
   "execution_count": 49,
   "metadata": {},
   "outputs": [
    {
     "data": {
      "image/png": "[encoded data removed]",
      "text/plain": [
       "<Figure size 432x288 with 1 Axes>"
      ]
     },
     "metadata": {
      "needs_background": "light"
     },
     "output_type": "display_data"
    },
    {
     "data": {
      "image/png": "[encoded data removed]",
      "text/plain": [
       "<Figure size 432x288 with 1 Axes>"
      ]
     },
     "metadata": {
      "needs_background": "light"
     },
     "output_type": "display_data"
    }
   ],
   "source": [
    "plt.bar(range(len(nfl_counts)), nfl_counts)\n",
    "plt.title(\"Number of tweets per hour for nfl hashtag\")\n",
    "plt.xlabel(\"Hours\")\n",
    "plt.ylabel(\"Number of tweets\")\n",
    "plt.show()\n",
    "plt.bar(range(len(superbowl_counts)), superbowl_counts)\n",
    "plt.title(\"Number of tweets per hour for superbowl hashtag\")\n",
    "plt.xlabel(\"Hours\")\n",
    "plt.ylabel(\"Number of tweets\")\n",
    "plt.show()"
   ]
  },
  {
   "cell_type": "code",
   "execution_count": 4,
   "metadata": {},
   "outputs": [],
   "source": [
    "def UpdateFeature(feature, tweet, cur_datetime):\n",
    "    feature[0] += 1 # number of tweets in window\n",
    "    feature[1] += tweet['metrics']['citations']['total'] # number of retweets\n",
    "    feature[2] += tweet['author']['followers'] # number of followers\n",
    "    feature[3] = max(feature[3], tweet['author']['followers']) # max number of followers per post\n",
    "    feature[4] = cur_datetime.hour # hour of the day\n",
    "    return feature\n",
    "\n",
    "def GetDataTargets(data):\n",
    "    targets = []\n",
    "    for idx in range(len(data)-1):\n",
    "        targets.append(data[idx+1][0])\n",
    "    targets.append(0)\n",
    "    return targets\n",
    "    \n",
    "def GetDataFeatures(filepath):\n",
    "    data = []\n",
    "    cur_feature = np.zeros(5)\n",
    "    first_tweet = True\n",
    "    with open(filepath, encoding=\"utf8\") as fp:\n",
    "        for line in fp:\n",
    "            tweet = json.loads(line)\n",
    "            cur_time = tweet['firstpost_date']\n",
    "            cur_datetime = datetime.datetime.fromtimestamp(cur_time, PST_TZ)\n",
    "            if first_tweet:\n",
    "                if cur_datetime.hour < 23:\n",
    "                    end_time = cur_datetime.replace(second=0, microsecond=0, minute=0, hour=cur_datetime.hour+1)\n",
    "                else:\n",
    "                    end_time = cur_datetime.replace(second=0, microsecond=0, minute=0, hour=0, day=cur_datetime.day+1)\n",
    "                cur_feature = UpdateFeature(cur_feature, tweet, cur_datetime)\n",
    "                first_tweet = False\n",
    "            else:\n",
    "                if cur_datetime < end_time:\n",
    "                    cur_feature = UpdateFeature(cur_feature, tweet, cur_datetime)\n",
    "                else:\n",
    "                    while cur_datetime >= end_time:\n",
    "                        end_time += datetime.timedelta(hours=1)\n",
    "                        data.append(cur_feature)\n",
    "                        cur_feature = np.zeros(5)\n",
    "                    cur_feature = UpdateFeature(cur_feature, tweet, cur_datetime)\n",
    "    data.append(cur_feature)\n",
    "    targets = GetDataTargets(data)\n",
    "    return np.array(data), np.array(targets)"
   ]
  },
  {
   "cell_type": "code",
   "execution_count": 24,
   "metadata": {},
   "outputs": [],
   "source": [
    "def ScoreOLS(data, targets):\n",
    "    data = sm.add_constant(data)\n",
    "    model = sm.OLS(targets, data)\n",
    "    results = model.fit()\n",
    "    \n",
    "    preds = results.predict(data)\n",
    "    mse = mean_squared_error(targets, preds)\n",
    "    r2 = r2_score(targets, preds)\n",
    "\n",
    "    print(\"mse:\", mse)\n",
    "    print(\"r2:\", r2)\n",
    "    print(\"tvalues:\", results.tvalues)\n",
    "    print(\"pvalues:\", results.pvalues)"
   ]
  },
  {
   "cell_type": "code",
   "execution_count": 25,
   "metadata": {},
   "outputs": [
    {
     "name": "stdout",
     "output_type": "stream",
     "text": [
      "Results for gohawks\n",
      "data shape: (973, 5)\n",
      "mse: 453578.7486139947\n",
      "r2: 0.48590927617552493\n",
      "tvalues: [ 1.08077764 10.44064355 -4.07835853 -2.9768586   0.65304     1.37735108]\n",
      "pvalues: [2.80065503e-01 2.97508596e-24 4.90865442e-05 2.98474171e-03\n",
      " 5.13885719e-01 1.68722443e-01]\n",
      "\n",
      "Results for gopatriots\n",
      "data shape: (684, 5)\n",
      "mse: 21831.47522865118\n",
      "r2: 0.653971081911064\n",
      "tvalues: [ 0.17076797 -1.59989195  8.02088091 -3.604888    2.54022053 -0.18773757]\n",
      "pvalues: [8.64457165e-01 1.10088401e-01 4.61673254e-15 3.35183637e-04\n",
      " 1.13002596e-02 8.51138550e-01]\n",
      "\n",
      "Results for nfl\n",
      "data shape: (927, 5)\n",
      "mse: 173049.88794530474\n",
      "r2: 0.6014683557318541\n",
      "tvalues: [ 2.01563501  5.58944403 -3.53909633  4.94821016 -3.34897774  2.39503814]\n",
      "pvalues: [4.41281846e-02 3.00072288e-08 4.21575799e-04 8.90288019e-07\n",
      " 8.44009171e-04 1.68175348e-02]\n",
      "\n",
      "Results for patriots\n",
      "data shape: (981, 5)\n",
      "mse: 2786511.109114322\n",
      "r2: 0.7080068674117341\n",
      "tvalues: [  1.05038766  21.65141621 -12.11920832   6.65463573  -1.31312292\n",
      "   1.00209429]\n",
      "pvalues: [2.93800191e-01 3.41281687e-85 1.37310323e-31 4.72998917e-11\n",
      " 1.89450484e-01 3.16546685e-01]\n",
      "\n",
      "Results for sb49\n",
      "data shape: (583, 5)\n",
      "mse: 16215653.098025376\n",
      "r2: 0.8039677993719475\n",
      "tvalues: [ 6.15402938e-01  1.16459793e+01 -1.15885448e+00 -2.94583491e-03\n",
      "  2.22213931e+00 -6.53457776e-01]\n",
      "pvalues: [5.38531297e-01 2.66943212e-28 2.46994882e-01 9.97650585e-01\n",
      " 2.66608928e-02 5.13721511e-01]\n",
      "\n",
      "Results for superbowl\n",
      "data shape: (959, 5)\n",
      "mse: 33179347.86457142\n",
      "r2: 0.7928758457951872\n",
      "tvalues: [ -0.41379499   5.48321546   4.23812302 -21.4726275   12.58014466\n",
      "  -1.57933626]\n",
      "pvalues: [6.79117354e-01 5.34996023e-08 2.47299661e-05 9.82943706e-84\n",
      " 1.09494540e-33 1.14590784e-01]\n",
      "\n"
     ]
    }
   ],
   "source": [
    "for file, hashtag in zip(ALL_FILES, ALL_HASHTAGS):\n",
    "    data, targets = GetDataFeatures(file)\n",
    "    print(\"Results for\", hashtag)\n",
    "    print(\"data shape:\", data.shape)\n",
    "    ScoreOLS(data, targets)\n",
    "    print()"
   ]
  },
  {
   "cell_type": "code",
   "execution_count": null,
   "metadata": {},
   "outputs": [],
   "source": []
  }
 ],
 "metadata": {
  "kernelspec": {
   "display_name": "Python 3",
   "language": "python",
   "name": "python3"
  },
  "language_info": {
   "codemirror_mode": {
    "name": "ipython",
    "version": 3
   },
   "file_extension": ".py",
   "mimetype": "text/x-python",
   "name": "python",
   "nbconvert_exporter": "python",
   "pygments_lexer": "ipython3",
   "version": "3.7.3"
  }
 },
 "nbformat": 4,
 "nbformat_minor": 2
}
