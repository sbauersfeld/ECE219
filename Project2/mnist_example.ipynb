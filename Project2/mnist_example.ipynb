{
 "cells": [
  {
   "cell_type": "code",
   "execution_count": 18,
   "metadata": {},
   "outputs": [
    {
     "name": "stdout",
     "output_type": "stream",
     "text": [
      "samples: 1797\n",
      "features: 64\n",
      "digits: 10\n",
      "homogeneity: 0.6100499807164457\n",
      "homogeneity: 0.6714785004218982\n"
     ]
    }
   ],
   "source": [
    "import numpy as np\n",
    "import matplotlib.pyplot as plt\n",
    "\n",
    "from sklearn import metrics\n",
    "from sklearn.cluster import KMeans\n",
    "from sklearn.datasets import load_digits\n",
    "from sklearn.decomposition import PCA\n",
    "from sklearn.preprocessing import scale\n",
    "\n",
    "np.random.seed(42)\n",
    "\n",
    "X_digits, y_digits = load_digits(return_X_y=True)\n",
    "data = scale(X_digits)\n",
    "\n",
    "n_samples, n_features = data.shape\n",
    "n_digits = len(np.unique(y_digits))\n",
    "labels = y_digits\n",
    "\n",
    "print(\"samples:\", n_samples)\n",
    "print(\"features:\", n_features)\n",
    "print(\"digits:\", n_digits)\n",
    "\n",
    "km = KMeans(init='k-means++', n_clusters=n_digits, n_init=10)\n",
    "km.fit(data)\n",
    "hom = metrics.homogeneity_score(labels, km.labels_)\n",
    "\n",
    "print(\"homogeneity:\", hom)\n",
    "\n",
    "reduced_data = PCA(n_components=50).fit_transform(data)\n",
    "km.fit(reduced_data)\n",
    "hom = metrics.homogeneity_score(labels, km.labels_)\n",
    "\n",
    "print(\"homogeneity:\", hom)\n"
   ]
  },
  {
   "cell_type": "code",
   "execution_count": null,
   "metadata": {},
   "outputs": [],
   "source": []
  }
 ],
 "metadata": {
  "kernelspec": {
   "display_name": "Python 3",
   "language": "python",
   "name": "python3"
  },
  "language_info": {
   "codemirror_mode": {
    "name": "ipython",
    "version": 3
   },
   "file_extension": ".py",
   "mimetype": "text/x-python",
   "name": "python",
   "nbconvert_exporter": "python",
   "pygments_lexer": "ipython3",
   "version": "3.7.3"
  }
 },
 "nbformat": 4,
 "nbformat_minor": 2
}
