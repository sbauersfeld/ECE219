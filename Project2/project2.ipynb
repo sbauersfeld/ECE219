{
 "cells": [
  {
   "cell_type": "code",
   "execution_count": 8,
   "metadata": {},
   "outputs": [],
   "source": [
    "import numpy as np\n",
    "np.random.seed(42)\n",
    "import random\n",
    "random.seed(42)\n",
    "\n",
    "import matplotlib.pyplot as plt\n",
    "from sklearn.datasets import fetch_20newsgroups\n",
    "from sklearn.feature_extraction.text import CountVectorizer\n",
    "from sklearn.feature_extraction.text import TfidfTransformer\n",
    "from sklearn.decomposition import TruncatedSVD\n",
    "from sklearn.decomposition import NMF\n",
    "from sklearn.cluster import KMeans\n",
    "from sklearn.metrics.cluster import contingency_matrix\n",
    "from sklearn import metrics\n",
    "\n",
    "def GetTFData():\n",
    "    comp_categories = ['comp.graphics', 'comp.os.ms-windows.misc', 'comp.sys.ibm.pc.hardware', 'comp.sys.mac.hardware']\n",
    "    rec_categories = ['rec.autos', 'rec.motorcycles', 'rec.sport.baseball', 'rec.sport.hockey']\n",
    "    all_categories = comp_categories + rec_categories\n",
    "        \n",
    "    twenty_data = fetch_20newsgroups(subset='all', categories=all_categories, shuffle=True, random_state=None)\n",
    "\n",
    "    count_vect = CountVectorizer(min_df=3)\n",
    "    tfidf_transformer = TfidfTransformer()\n",
    "\n",
    "    X_data_counts = count_vect.fit_transform(twenty_data.data)\n",
    "    X_data_tfidf = tfidf_transformer.fit_transform(X_data_counts)\n",
    "    print(\"TF-IDF shape:\", X_data_tfidf.shape)\n",
    "\n",
    "    return X_data_tfidf, np.array(twenty_data.target > 3)"
   ]
  },
  {
   "cell_type": "code",
   "execution_count": 9,
   "metadata": {},
   "outputs": [
    {
     "name": "stdout",
     "output_type": "stream",
     "text": [
      "TF-IDF shape: (7882, 28069)\n"
     ]
    }
   ],
   "source": [
    "dataset, data_labels = GetTFData()"
   ]
  },
  {
   "cell_type": "code",
   "execution_count": 10,
   "metadata": {},
   "outputs": [
    {
     "name": "stdout",
     "output_type": "stream",
     "text": [
      "Contingency Matrix: [[2859 1044]\n",
      " [2074 1905]]\n",
      "Homogeneity: 0.035\n",
      "Completeness: 0.036\n",
      "V-measure: 0.036\n",
      "Adjusted Rand-Index: 0.043\n",
      "Adjusted Mutual Information Score: 0.035\n"
     ]
    }
   ],
   "source": [
    "km = KMeans(n_clusters=2, random_state=0, max_iter=1000, n_init=30)\n",
    "km.fit(dataset)\n",
    "\n",
    "print(\"Contingency Matrix:\\n,\" contingency_matrix(data_labels, km.labels_))\n",
    "\n",
    "print(\"Homogeneity: %0.3f\" % metrics.homogeneity_score(data_labels, km.labels_))\n",
    "print(\"Completeness: %0.3f\" % metrics.completeness_score(data_labels, km.labels_))\n",
    "print(\"V-measure: %0.3f\" % metrics.v_measure_score(data_labels, km.labels_))\n",
    "print(\"Adjusted Rand-Index: %.3f\" % metrics.adjusted_rand_score(data_labels, km.labels_))\n",
    "print(\"Adjusted Mutual Information Score: %.3f\" % metrics.adjusted_mutual_info_score(data_labels, km.labels_))"
   ]
  },
  {
   "cell_type": "code",
   "execution_count": null,
   "metadata": {},
   "outputs": [],
   "source": []
  }
 ],
 "metadata": {
  "kernelspec": {
   "display_name": "Python 3",
   "language": "python",
   "name": "python3"
  },
  "language_info": {
   "codemirror_mode": {
    "name": "ipython",
    "version": 3
   },
   "file_extension": ".py",
   "mimetype": "text/x-python",
   "name": "python",
   "nbconvert_exporter": "python",
   "pygments_lexer": "ipython3",
   "version": "3.7.3"
  }
 },
 "nbformat": 4,
 "nbformat_minor": 2
}
