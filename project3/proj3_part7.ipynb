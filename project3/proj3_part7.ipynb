{
 "cells": [
  {
   "cell_type": "code",
   "execution_count": 17,
   "metadata": {},
   "outputs": [
    {
     "name": "stdout",
     "output_type": "stream",
     "text": [
      "Number of users: 610, number of items: 9724.\n"
     ]
    },
    {
     "data": {
      "image/png": "[encoded data removed]",
      "text/plain": [
       "<matplotlib.figure.Figure at 0x1395cdd8>"
      ]
     },
     "metadata": {
      "needs_background": "light"
     },
     "output_type": "display_data"
    },
    {
     "name": "stdout",
     "output_type": "stream",
     "text": [
      "('Area under the curve for KNN: ', 0.7807724293652648)\n",
      "('Area under the curve for NMF: ', 0.7754967382532397)\n",
      "('Area under the curve for SVD: ', 0.7911511701915437)\n"
     ]
    }
   ],
   "source": [
    "import pandas as pd\n",
    "import numpy as np\n",
    "import matplotlib.pyplot as plt\n",
    "from surprise.prediction_algorithms.knns import KNNWithMeans\n",
    "from surprise.model_selection import cross_validate\n",
    "from surprise import Dataset\n",
    "from surprise import Reader\n",
    "from surprise import accuracy\n",
    "from surprise.model_selection import KFold\n",
    "from surprise.model_selection import train_test_split\n",
    "from sklearn.metrics import roc_curve\n",
    "from sklearn.metrics import roc_auc_score\n",
    "from surprise.prediction_algorithms.predictions import Prediction\n",
    "from surprise.prediction_algorithms.matrix_factorization import NMF\n",
    "from surprise.prediction_algorithms.matrix_factorization import SVD\n",
    "\n",
    "def GetDataframe():\n",
    "    df = pd.read_csv(\"C:/Users/AJ/Desktop/ml-latest-small/ratings.csv\")\n",
    "    df.drop('timestamp', axis=1, inplace=True)\n",
    "    num_users = df.userId.unique().shape[0]\n",
    "    num_items = df.movieId.unique().shape[0]\n",
    "\n",
    "    print('Number of users: %d, number of items: %d.' % (num_users, num_items))\n",
    "    return df, num_users, num_items\n",
    "\n",
    "def GetRMatrix(data):\n",
    "    X = data.values\n",
    "    users = X[:,0]\n",
    "    movies = X[:,1]\n",
    "\n",
    "    movie_map = {}\n",
    "    reverse_movie_map = {}\n",
    "    new_id = 0\n",
    "    for idx in range(len(movies)):\n",
    "        item = int(movies[idx])\n",
    "        if item not in movie_map:\n",
    "            movie_map[item] = new_id\n",
    "            reverse_movie_map[new_id] = item\n",
    "            new_id += 1\n",
    "\n",
    "    ratings = X[:,2]\n",
    "    num_ratings = int(len(ratings))\n",
    "    R = np.zeros((num_users, num_items))\n",
    "\n",
    "    for i in np.arange(num_ratings):\n",
    "        R[int(users[i]-1), movie_map[movies[i]]] = ratings[i]\n",
    "        \n",
    "    return R, users, movies, ratings, movie_map, reverse_movie_map\n",
    "\n",
    "df, num_users, num_items = GetDataframe()\n",
    "R, users, movies, ratings, movie_map, reverse_movie_map = GetRMatrix(df)\n",
    "\n",
    "\n",
    "best_k = 40\n",
    "sim_options = {'name': 'pearson'}\n",
    "\n",
    "\n",
    "\n",
    "clf_knn = KNNWithMeans(k=best_k, sim_options=sim_options, verbose=False)\n",
    "\n",
    "clf_nmf=NMF(n_factors=20, biased=False)\n",
    "\n",
    "clf_svd = SVD(n_factors=20)\n",
    "\n",
    "\n",
    "def give_roc_stuff(algo, df=df, thresh=2):\n",
    "    reader_bin = Reader(rating_scale=(1, 5))\n",
    "    data = Dataset.load_from_df(df,reader_bin)\n",
    "    X=df.values\n",
    "    y_true = X[:,2]\n",
    "    \n",
    "    trainset, testset = train_test_split(data, test_size=.1)\n",
    "    predictions = algo.fit(trainset).test(testset)\n",
    "    test_array=np.array(testset)\n",
    "    y_true=test_array[:,2]\n",
    "    above_thresh=y_true>thresh\n",
    "    below_thresh=y_true<=thresh\n",
    "    y_true[above_thresh]=1\n",
    "    y_true[below_thresh]=0\n",
    "    pred_array = np.array(predictions)\n",
    "    scores=pred_array[:,3]\n",
    "    fpr, tpr, thresholds=roc_curve(y_true, scores)\n",
    "    auc_c = roc_auc_score(y_true, scores)\n",
    "    return fpr, tpr, auc_c\n",
    "\n",
    "fpr_knn, tpr_knn, auc_knn = give_roc_stuff(clf_knn)\n",
    "fpr_nmf, tpr_nmf, auc_nmf, = give_roc_stuff(clf_nmf)\n",
    "fpr_svd, tpr_svd, auc_svd = give_roc_stuff(clf_svd)\n",
    "\n",
    "plt.plot(fpr_knn, tpr_knn, 'r') # plotting t, a separately \n",
    "plt.plot(fpr_nmf, tpr_nmf, 'b') # plotting t, b separately \n",
    "plt.plot(fpr_svd, tpr_svd, 'g') # plotting t, c separately \n",
    "plt.legend(['KNN','NMF','SVD'])\n",
    "plt.title('ROCs for KNN, NMF, and SVD')\n",
    "plt.show()\n",
    "\n",
    "\n",
    "\n",
    "\n",
    "print('Area under the curve for KNN: ', auc_knn)\n",
    "print('Area under the curve for NMF: ', auc_nmf)\n",
    "print('Area under the curve for SVD: ', auc_svd)\n"
   ]
  },
  {
   "cell_type": "code",
   "execution_count": null,
   "metadata": {},
   "outputs": [],
   "source": []
  }
 ],
 "metadata": {
  "kernelspec": {
   "display_name": "Python 2",
   "language": "python",
   "name": "python2"
  },
  "language_info": {
   "codemirror_mode": {
    "name": "ipython",
    "version": 2
   },
   "file_extension": ".py",
   "mimetype": "text/x-python",
   "name": "python",
   "nbconvert_exporter": "python",
   "pygments_lexer": "ipython2",
   "version": "2.7.15"
  }
 },
 "nbformat": 4,
 "nbformat_minor": 2
}
